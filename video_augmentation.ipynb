{
  "cells": [
    {
      "cell_type": "code",
      "execution_count": null,
      "metadata": {
        "id": "DnTpPgLCVxpF"
      },
      "outputs": [],
      "source": [
        "import os\n",
        "import cv2\n",
        "import numpy as np\n",
        "import random\n",
        "from tqdm.notebook import tqdm\n",
        "import shutil"
      ]
    },
    {
      "cell_type": "code",
      "execution_count": null,
      "metadata": {
        "id": "3WBlUPXnVxpG"
      },
      "outputs": [],
      "source": [
        "def augment_frame(\n",
        "    frame,\n",
        "    frame_width,\n",
        "    frame_height,\n",
        "    translation_percent,\n",
        "    shear_factor,\n",
        "    noise_stddev,\n",
        "    scale_factor,\n",
        "):\n",
        "    \"\"\"\n",
        "    Apply translation, shearing, scaling, and Gaussian noise to a frame.\n",
        "    \"\"\"\n",
        "    # Translation\n",
        "    translation_pixels = int(frame_width * translation_percent)\n",
        "    translation_matrix = np.float32([[1, 0, translation_pixels], [0, 1, 0]])\n",
        "    translated_frame = cv2.warpAffine(\n",
        "        frame, translation_matrix, (frame_width, frame_height)\n",
        "    )\n",
        "\n",
        "    # Shearing\n",
        "    shear_matrix = np.float32([[1, shear_factor, 0], [0, 1, 0]])\n",
        "    sheared_frame = cv2.warpAffine(\n",
        "        translated_frame, shear_matrix, (frame_width, frame_height)\n",
        "    )\n",
        "\n",
        "    # Scaling\n",
        "    scaled_width = int(frame_width * scale_factor)\n",
        "    scaled_height = int(frame_height * scale_factor)\n",
        "    scaled_frame = cv2.resize(sheared_frame, (scaled_width, scaled_height))\n",
        "\n",
        "    # Crop or pad to maintain original size\n",
        "    if scale_factor > 1.0:\n",
        "        start_x = (scaled_width - frame_width) // 2\n",
        "        start_y = (scaled_height - frame_height) // 2\n",
        "        scaled_frame = scaled_frame[\n",
        "            start_y : start_y + frame_height, start_x : start_x + frame_width\n",
        "        ]\n",
        "    else:\n",
        "        pad_x = (frame_width - scaled_width) // 2\n",
        "        pad_y = (frame_height - scaled_height) // 2\n",
        "        scaled_frame = cv2.copyMakeBorder(\n",
        "            scaled_frame,\n",
        "            pad_y,\n",
        "            frame_height - scaled_height - pad_y,\n",
        "            pad_x,\n",
        "            frame_width - scaled_width - pad_x,\n",
        "            cv2.BORDER_CONSTANT,\n",
        "            value=[0, 0, 0],\n",
        "        )\n",
        "\n",
        "    # Add Gaussian noise\n",
        "    noise = np.random.normal(0, noise_stddev, frame.shape).astype(np.float32)\n",
        "    noisy_frame = np.clip(scaled_frame + noise, 0, 255).astype(np.uint8)\n",
        "\n",
        "    return noisy_frame"
      ]
    },
    {
      "cell_type": "code",
      "execution_count": null,
      "metadata": {
        "id": "vVQbq1vwVxpH"
      },
      "outputs": [],
      "source": [
        "def process_video(video_path, output_dir, num_copies=3, **augmentation_params):\n",
        "    \"\"\"\n",
        "    Process a single video and save augmented copies.\n",
        "    \"\"\"\n",
        "\n",
        "    cap = cv2.VideoCapture(video_path)\n",
        "    if not cap.isOpened():\n",
        "        print(f\"Error: Cannot open video {video_path}\")\n",
        "        return\n",
        "\n",
        "    # Get video properties\n",
        "    frame_width = int(cap.get(cv2.CAP_PROP_FRAME_WIDTH))\n",
        "    frame_height = int(cap.get(cv2.CAP_PROP_FRAME_HEIGHT))\n",
        "    fps = int(cap.get(cv2.CAP_PROP_FPS))\n",
        "    fourcc = cv2.VideoWriter_fourcc(*\"mp4v\")\n",
        "\n",
        "    # Save augmented copies\n",
        "    video_name = os.path.splitext(os.path.basename(video_path))[0]\n",
        "    for i in range(num_copies):\n",
        "        cap.set(cv2.CAP_PROP_POS_FRAMES, 0)  # Reset to the first frame\n",
        "        augmented_output_path = os.path.join(\n",
        "            output_dir, f\"{video_name}_augmented_{i + 1}.mp4\"\n",
        "        )\n",
        "        out_augmented = cv2.VideoWriter(\n",
        "            augmented_output_path, fourcc, fps, (frame_width, frame_height)\n",
        "        )\n",
        "\n",
        "        # Generate random parameters for this augmented copy\n",
        "        translation_percent = random.uniform(*augmentation_params[\"translation_range\"])\n",
        "        shear_factor = random.uniform(*augmentation_params[\"shear_range\"])\n",
        "        noise_stddev = random.uniform(*augmentation_params[\"noise_stddev_range\"])\n",
        "        scale_factor = random.uniform(*augmentation_params[\"scale_range\"])\n",
        "\n",
        "        while True:\n",
        "            ret, frame = cap.read()\n",
        "            if not ret:\n",
        "                break\n",
        "            augmented_frame = augment_frame(\n",
        "                frame,\n",
        "                frame_width,\n",
        "                frame_height,\n",
        "                translation_percent,\n",
        "                shear_factor,\n",
        "                noise_stddev,\n",
        "                scale_factor,\n",
        "            )\n",
        "            out_augmented.write(augmented_frame)\n",
        "\n",
        "        out_augmented.release()\n",
        "\n",
        "    cap.release()"
      ]
    },
    {
      "cell_type": "code",
      "execution_count": null,
      "metadata": {
        "id": "A7tYK_9fVxpH"
      },
      "outputs": [],
      "source": [
        "def augment_training_videos(\n",
        "    train_folder, output_train_folder, num_copies=3, **augmentation_params\n",
        "):\n",
        "    \"\"\"\n",
        "    Augment all videos in the training folder and save them in the output directory.\n",
        "    \"\"\"\n",
        "    for label in tqdm(\n",
        "        os.listdir(train_folder), desc=\"Augmenting Training Folders\", unit=\"folder\"\n",
        "    ):\n",
        "        label_input_folder = os.path.join(train_folder, label)\n",
        "        label_output_folder = os.path.join(output_train_folder, label)\n",
        "\n",
        "        if not os.path.isdir(label_input_folder):\n",
        "            continue\n",
        "\n",
        "        os.makedirs(label_output_folder, exist_ok=True)\n",
        "        for video_file in tqdm(\n",
        "            os.listdir(label_input_folder), desc=f\"Processing {label}\", leave=False\n",
        "        ):\n",
        "            video_path = os.path.join(label_input_folder, video_file)\n",
        "            process_video(\n",
        "                video_path,\n",
        "                label_output_folder,\n",
        "                num_copies=num_copies,\n",
        "                **augmentation_params,\n",
        "            )\n",
        "            shutil.copy(video_path, label_output_folder)\n",
        "\n",
        "\n",
        "def copy_test_videos(test_folder, output_test_folder):\n",
        "    \"\"\"\n",
        "    Copy all videos from the test folder to the output directory without augmentation.\n",
        "    \"\"\"\n",
        "    if not os.path.exists(test_folder):\n",
        "        print(f\"Test folder does not exist: {test_folder}\")\n",
        "        return\n",
        "\n",
        "    shutil.copytree(test_folder, output_test_folder, dirs_exist_ok=True)\n",
        "    print(f\"Copied test videos to {output_test_folder}\")\n"
      ]
    },
    {
      "cell_type": "code",
      "execution_count": null,
      "metadata": {
        "id": "u_tjEBZfVxpI"
      },
      "outputs": [],
      "source": [
        "def main(input_root, output_root, num_copies=3, **augmentation_params):\n",
        "    \"\"\"\n",
        "    Main function to augment training videos and copy test videos.\n",
        "    \"\"\"\n",
        "    train_folder = os.path.join(input_root, \"train\")\n",
        "    test_folder = os.path.join(input_root, \"test\")\n",
        "    output_train_folder = os.path.join(output_root, \"train\")\n",
        "    output_test_folder = os.path.join(output_root, \"test\")\n",
        "\n",
        "    os.makedirs(output_train_folder, exist_ok=True)\n",
        "    os.makedirs(output_test_folder, exist_ok=True)\n",
        "\n",
        "    augment_training_videos(\n",
        "        train_folder, output_train_folder, num_copies=num_copies, **augmentation_params\n",
        "    )\n",
        "\n",
        "    copy_test_videos(test_folder, output_test_folder)\n"
      ]
    },
    {
      "cell_type": "code",
      "execution_count": null,
      "metadata": {
        "id": "pMUd4GsFVxpI",
        "outputId": "39da4f2e-c6eb-47f9-fbed-f5ca438910fb",
        "colab": {
          "referenced_widgets": [
            "d1edff000fd54570ab8c2e933b2391c7",
            "6efd5cc623714d4f84d812360c8f2164",
            "914b0a96e1784600ac072f35222dc084",
            "ad45c4c098f54fe88982de2784202e13",
            "f57c654240d84df690230ed663a458ff",
            "6041d37b5ab64a3591af375879797dbe",
            "d47630857d0343d3bb00a923d4806441",
            "ec9df0ae27364f54aa23a76a46c1eb6c",
            "0073df9dc6d84016b4b5964ab491e3ba",
            "114bc6b8d1da462aaa6bb540236f98dc",
            "a078c675a7ec4015964005a18b87a15c",
            "efad3dfb2d0f4f3eac979e927e4e419a",
            "51f580017c2e4b00918b2220bf37b468",
            "5f6c10ced6ae4740bbb2fd7ee7dcc3b6",
            "58aaa797fe8a4a688d7551d2e13dbc99",
            "d9a2ec4462bb43378eb69b445527c83c",
            "3714fc64278a47b5902bda08ac54d7ce",
            "5c5f5e0dfe6944919149d0c79770ec73",
            "8205fc72cc7941eaabadc47f8a3dca52",
            "ebc238e486b64439aff2f67b26288a62",
            "246875c473094abb8c9143d10159061e",
            "e7225a264cee42f0b9ef9fdeaf9d4d86",
            "ff307ada8a81484f86d142ae34b2c862",
            "78de37478cf54dd4b4bcd2842ff32433",
            "f50ed7ba1f2642f08723d2df3b571578",
            "82883c1841b74248a4cd3eae8dbbba3e",
            "d253a604ae0b4cb993c4c0421ce71c7b",
            "70e2e40878214a718812c8a6da9cea38",
            "5c5fcd914a6a4bc8a6675d0add2ee0f2",
            "ffa9e998c1ad42e4a3dababf0e9754a1",
            "2bb36e523fd14bcfbf0274583b99dd01"
          ]
        }
      },
      "outputs": [
        {
          "data": {
            "application/vnd.jupyter.widget-view+json": {
              "model_id": "d1edff000fd54570ab8c2e933b2391c7",
              "version_major": 2,
              "version_minor": 0
            },
            "text/plain": [
              "Augmenting Training Folders:   0%|          | 0/30 [00:00<?, ?folder/s]"
            ]
          },
          "metadata": {},
          "output_type": "display_data"
        },
        {
          "data": {
            "application/vnd.jupyter.widget-view+json": {
              "model_id": "6efd5cc623714d4f84d812360c8f2164",
              "version_major": 2,
              "version_minor": 0
            },
            "text/plain": [
              "Processing adik:   0%|          | 0/8 [00:00<?, ?it/s]"
            ]
          },
          "metadata": {},
          "output_type": "display_data"
        },
        {
          "data": {
            "application/vnd.jupyter.widget-view+json": {
              "model_id": "914b0a96e1784600ac072f35222dc084",
              "version_major": 2,
              "version_minor": 0
            },
            "text/plain": [
              "Processing anak:   0%|          | 0/8 [00:00<?, ?it/s]"
            ]
          },
          "metadata": {},
          "output_type": "display_data"
        },
        {
          "data": {
            "application/vnd.jupyter.widget-view+json": {
              "model_id": "ad45c4c098f54fe88982de2784202e13",
              "version_major": 2,
              "version_minor": 0
            },
            "text/plain": [
              "Processing besar:   0%|          | 0/8 [00:00<?, ?it/s]"
            ]
          },
          "metadata": {},
          "output_type": "display_data"
        },
        {
          "data": {
            "application/vnd.jupyter.widget-view+json": {
              "model_id": "f57c654240d84df690230ed663a458ff",
              "version_major": 2,
              "version_minor": 0
            },
            "text/plain": [
              "Processing buka:   0%|          | 0/8 [00:00<?, ?it/s]"
            ]
          },
          "metadata": {},
          "output_type": "display_data"
        },
        {
          "data": {
            "application/vnd.jupyter.widget-view+json": {
              "model_id": "6041d37b5ab64a3591af375879797dbe",
              "version_major": 2,
              "version_minor": 0
            },
            "text/plain": [
              "Processing buruk:   0%|          | 0/8 [00:00<?, ?it/s]"
            ]
          },
          "metadata": {},
          "output_type": "display_data"
        },
        {
          "data": {
            "application/vnd.jupyter.widget-view+json": {
              "model_id": "d47630857d0343d3bb00a923d4806441",
              "version_major": 2,
              "version_minor": 0
            },
            "text/plain": [
              "Processing dengar:   0%|          | 0/8 [00:00<?, ?it/s]"
            ]
          },
          "metadata": {},
          "output_type": "display_data"
        },
        {
          "data": {
            "application/vnd.jupyter.widget-view+json": {
              "model_id": "ec9df0ae27364f54aa23a76a46c1eb6c",
              "version_major": 2,
              "version_minor": 0
            },
            "text/plain": [
              "Processing gembira:   0%|          | 0/8 [00:00<?, ?it/s]"
            ]
          },
          "metadata": {},
          "output_type": "display_data"
        },
        {
          "data": {
            "application/vnd.jupyter.widget-view+json": {
              "model_id": "0073df9dc6d84016b4b5964ab491e3ba",
              "version_major": 2,
              "version_minor": 0
            },
            "text/plain": [
              "Processing guru:   0%|          | 0/8 [00:00<?, ?it/s]"
            ]
          },
          "metadata": {},
          "output_type": "display_data"
        },
        {
          "data": {
            "application/vnd.jupyter.widget-view+json": {
              "model_id": "114bc6b8d1da462aaa6bb540236f98dc",
              "version_major": 2,
              "version_minor": 0
            },
            "text/plain": [
              "Processing haus:   0%|          | 0/8 [00:00<?, ?it/s]"
            ]
          },
          "metadata": {},
          "output_type": "display_data"
        },
        {
          "data": {
            "application/vnd.jupyter.widget-view+json": {
              "model_id": "a078c675a7ec4015964005a18b87a15c",
              "version_major": 2,
              "version_minor": 0
            },
            "text/plain": [
              "Processing ibu:   0%|          | 0/8 [00:00<?, ?it/s]"
            ]
          },
          "metadata": {},
          "output_type": "display_data"
        },
        {
          "data": {
            "application/vnd.jupyter.widget-view+json": {
              "model_id": "efad3dfb2d0f4f3eac979e927e4e419a",
              "version_major": 2,
              "version_minor": 0
            },
            "text/plain": [
              "Processing jalan:   0%|          | 0/8 [00:00<?, ?it/s]"
            ]
          },
          "metadata": {},
          "output_type": "display_data"
        },
        {
          "data": {
            "application/vnd.jupyter.widget-view+json": {
              "model_id": "51f580017c2e4b00918b2220bf37b468",
              "version_major": 2,
              "version_minor": 0
            },
            "text/plain": [
              "Processing keluarga:   0%|          | 0/8 [00:00<?, ?it/s]"
            ]
          },
          "metadata": {},
          "output_type": "display_data"
        },
        {
          "data": {
            "application/vnd.jupyter.widget-view+json": {
              "model_id": "5f6c10ced6ae4740bbb2fd7ee7dcc3b6",
              "version_major": 2,
              "version_minor": 0
            },
            "text/plain": [
              "Processing kertas:   0%|          | 0/8 [00:00<?, ?it/s]"
            ]
          },
          "metadata": {},
          "output_type": "display_data"
        },
        {
          "data": {
            "application/vnd.jupyter.widget-view+json": {
              "model_id": "58aaa797fe8a4a688d7551d2e13dbc99",
              "version_major": 2,
              "version_minor": 0
            },
            "text/plain": [
              "Processing kucing:   0%|          | 0/8 [00:00<?, ?it/s]"
            ]
          },
          "metadata": {},
          "output_type": "display_data"
        },
        {
          "data": {
            "application/vnd.jupyter.widget-view+json": {
              "model_id": "d9a2ec4462bb43378eb69b445527c83c",
              "version_major": 2,
              "version_minor": 0
            },
            "text/plain": [
              "Processing lapar:   0%|          | 0/8 [00:00<?, ?it/s]"
            ]
          },
          "metadata": {},
          "output_type": "display_data"
        },
        {
          "data": {
            "application/vnd.jupyter.widget-view+json": {
              "model_id": "3714fc64278a47b5902bda08ac54d7ce",
              "version_major": 2,
              "version_minor": 0
            },
            "text/plain": [
              "Processing lihat:   0%|          | 0/8 [00:00<?, ?it/s]"
            ]
          },
          "metadata": {},
          "output_type": "display_data"
        },
        {
          "data": {
            "application/vnd.jupyter.widget-view+json": {
              "model_id": "5c5f5e0dfe6944919149d0c79770ec73",
              "version_major": 2,
              "version_minor": 0
            },
            "text/plain": [
              "Processing maaf:   0%|          | 0/8 [00:00<?, ?it/s]"
            ]
          },
          "metadata": {},
          "output_type": "display_data"
        },
        {
          "data": {
            "application/vnd.jupyter.widget-view+json": {
              "model_id": "8205fc72cc7941eaabadc47f8a3dca52",
              "version_major": 2,
              "version_minor": 0
            },
            "text/plain": [
              "Processing main:   0%|          | 0/8 [00:00<?, ?it/s]"
            ]
          },
          "metadata": {},
          "output_type": "display_data"
        },
        {
          "data": {
            "application/vnd.jupyter.widget-view+json": {
              "model_id": "ebc238e486b64439aff2f67b26288a62",
              "version_major": 2,
              "version_minor": 0
            },
            "text/plain": [
              "Processing makan:   0%|          | 0/7 [00:00<?, ?it/s]"
            ]
          },
          "metadata": {},
          "output_type": "display_data"
        },
        {
          "data": {
            "application/vnd.jupyter.widget-view+json": {
              "model_id": "246875c473094abb8c9143d10159061e",
              "version_major": 2,
              "version_minor": 0
            },
            "text/plain": [
              "Processing marah:   0%|          | 0/9 [00:00<?, ?it/s]"
            ]
          },
          "metadata": {},
          "output_type": "display_data"
        },
        {
          "data": {
            "application/vnd.jupyter.widget-view+json": {
              "model_id": "e7225a264cee42f0b9ef9fdeaf9d4d86",
              "version_major": 2,
              "version_minor": 0
            },
            "text/plain": [
              "Processing minum:   0%|          | 0/8 [00:00<?, ?it/s]"
            ]
          },
          "metadata": {},
          "output_type": "display_data"
        },
        {
          "data": {
            "application/vnd.jupyter.widget-view+json": {
              "model_id": "ff307ada8a81484f86d142ae34b2c862",
              "version_major": 2,
              "version_minor": 0
            },
            "text/plain": [
              "Processing nama:   0%|          | 0/8 [00:00<?, ?it/s]"
            ]
          },
          "metadata": {},
          "output_type": "display_data"
        },
        {
          "data": {
            "application/vnd.jupyter.widget-view+json": {
              "model_id": "78de37478cf54dd4b4bcd2842ff32433",
              "version_major": 2,
              "version_minor": 0
            },
            "text/plain": [
              "Processing orang:   0%|          | 0/7 [00:00<?, ?it/s]"
            ]
          },
          "metadata": {},
          "output_type": "display_data"
        },
        {
          "data": {
            "application/vnd.jupyter.widget-view+json": {
              "model_id": "f50ed7ba1f2642f08723d2df3b571578",
              "version_major": 2,
              "version_minor": 0
            },
            "text/plain": [
              "Processing panggil:   0%|          | 0/8 [00:00<?, ?it/s]"
            ]
          },
          "metadata": {},
          "output_type": "display_data"
        },
        {
          "data": {
            "application/vnd.jupyter.widget-view+json": {
              "model_id": "82883c1841b74248a4cd3eae8dbbba3e",
              "version_major": 2,
              "version_minor": 0
            },
            "text/plain": [
              "Processing rumah:   0%|          | 0/8 [00:00<?, ?it/s]"
            ]
          },
          "metadata": {},
          "output_type": "display_data"
        },
        {
          "data": {
            "application/vnd.jupyter.widget-view+json": {
              "model_id": "d253a604ae0b4cb993c4c0421ce71c7b",
              "version_major": 2,
              "version_minor": 0
            },
            "text/plain": [
              "Processing sedikit:   0%|          | 0/8 [00:00<?, ?it/s]"
            ]
          },
          "metadata": {},
          "output_type": "display_data"
        },
        {
          "data": {
            "application/vnd.jupyter.widget-view+json": {
              "model_id": "70e2e40878214a718812c8a6da9cea38",
              "version_major": 2,
              "version_minor": 0
            },
            "text/plain": [
              "Processing selamat:   0%|          | 0/8 [00:00<?, ?it/s]"
            ]
          },
          "metadata": {},
          "output_type": "display_data"
        },
        {
          "data": {
            "application/vnd.jupyter.widget-view+json": {
              "model_id": "5c5fcd914a6a4bc8a6675d0add2ee0f2",
              "version_major": 2,
              "version_minor": 0
            },
            "text/plain": [
              "Processing senyum:   0%|          | 0/8 [00:00<?, ?it/s]"
            ]
          },
          "metadata": {},
          "output_type": "display_data"
        },
        {
          "data": {
            "application/vnd.jupyter.widget-view+json": {
              "model_id": "ffa9e998c1ad42e4a3dababf0e9754a1",
              "version_major": 2,
              "version_minor": 0
            },
            "text/plain": [
              "Processing teman:   0%|          | 0/7 [00:00<?, ?it/s]"
            ]
          },
          "metadata": {},
          "output_type": "display_data"
        },
        {
          "data": {
            "application/vnd.jupyter.widget-view+json": {
              "model_id": "2bb36e523fd14bcfbf0274583b99dd01",
              "version_major": 2,
              "version_minor": 0
            },
            "text/plain": [
              "Processing tidur:   0%|          | 0/7 [00:00<?, ?it/s]"
            ]
          },
          "metadata": {},
          "output_type": "display_data"
        }
      ],
      "source": [
        "# Define input and output directories\n",
        "input_root = \"data_processed/\"\n",
        "output_root = \"data_augmented/\"\n",
        "os.makedirs(output_root, exist_ok=True)\n",
        "\n",
        "# Define augmentation parameters\n",
        "augmentation_params = {\n",
        "    \"translation_range\": (-0.2, 0.2),\n",
        "    \"shear_range\": (-0.2, 0.2),\n",
        "    \"noise_stddev_range\": (5, 25),\n",
        "    \"scale_range\": (0.6, 1.2),\n",
        "}\n",
        "\n",
        "# Run the pipeline\n",
        "main(input_root, output_root, num_copies=3, **augmentation_params)"
      ]
    }
  ],
  "metadata": {
    "kernelspec": {
      "display_name": ".venv",
      "language": "python",
      "name": "python3"
    },
    "language_info": {
      "codemirror_mode": {
        "name": "ipython",
        "version": 3
      },
      "file_extension": ".py",
      "mimetype": "text/x-python",
      "name": "python",
      "nbconvert_exporter": "python",
      "pygments_lexer": "ipython3",
      "version": "3.12.4"
    },
    "colab": {
      "provenance": []
    }
  },
  "nbformat": 4,
  "nbformat_minor": 0
}