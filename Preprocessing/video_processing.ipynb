{
  "cells": [
    {
      "cell_type": "code",
      "execution_count": null,
      "metadata": {
        "id": "apL79xkpWTmJ"
      },
      "outputs": [],
      "source": [
        "import os\n",
        "import cv2\n",
        "import numpy as np\n",
        "from tqdm.notebook import tqdm"
      ]
    },
    {
      "cell_type": "code",
      "execution_count": null,
      "metadata": {
        "id": "kMhKuH8_WTmK"
      },
      "outputs": [],
      "source": [
        "def resize_video(video_path, target_size=(224, 224)):\n",
        "    cap = cv2.VideoCapture(video_path)\n",
        "    if not cap.isOpened():\n",
        "        print(f\"Error opening video file: {video_path}\")\n",
        "        return None, None\n",
        "\n",
        "    fps = cap.get(cv2.CAP_PROP_FPS)\n",
        "    frames = []\n",
        "\n",
        "    while True:\n",
        "        ret, frame = cap.read()\n",
        "        if not ret:\n",
        "            break\n",
        "        resized_frame = cv2.resize(frame, target_size)\n",
        "        frames.append(resized_frame)\n",
        "\n",
        "    cap.release()\n",
        "    return frames, fps"
      ]
    },
    {
      "cell_type": "code",
      "execution_count": null,
      "metadata": {
        "id": "9P75vTYPWTmL"
      },
      "outputs": [],
      "source": [
        "def normalize_fps(frames, fps, target_fps=30):\n",
        "    if fps == target_fps:\n",
        "        return frames\n",
        "\n",
        "    num_frames = len(frames)\n",
        "    duration = num_frames / fps\n",
        "    target_num_frames = int(duration * target_fps)\n",
        "\n",
        "    frame_indices = np.linspace(0, num_frames - 1, target_num_frames, dtype=int)\n",
        "    normalized_frames = [frames[i] for i in frame_indices]\n",
        "    return normalized_frames"
      ]
    },
    {
      "cell_type": "code",
      "execution_count": null,
      "metadata": {
        "id": "QfsdmOVEWTmM"
      },
      "outputs": [],
      "source": [
        "def apply_brightness_normalization(frames):\n",
        "    clahe = cv2.createCLAHE(clipLimit=2.0, tileGridSize=(8, 8))\n",
        "    normalized_frames = []\n",
        "    for frame in frames:\n",
        "        gray = cv2.cvtColor(frame, cv2.COLOR_BGR2GRAY)\n",
        "        cl = clahe.apply(gray)\n",
        "        frame[:, :, 0] = cl\n",
        "        frame[:, :, 1] = cl\n",
        "        frame[:, :, 2] = cl\n",
        "        normalized_frames.append(frame)\n",
        "    return normalized_frames"
      ]
    },
    {
      "cell_type": "code",
      "execution_count": null,
      "metadata": {
        "id": "MljwA6SBWTmM"
      },
      "outputs": [],
      "source": [
        "def calculate_frame_difference(frame1, frame2):\n",
        "    gray1 = cv2.cvtColor(frame1, cv2.COLOR_BGR2GRAY)\n",
        "    gray2 = cv2.cvtColor(frame2, cv2.COLOR_BGR2GRAY)\n",
        "    frame_diff = cv2.absdiff(gray1, gray2)\n",
        "    _, thresh = cv2.threshold(frame_diff, 30, 255, cv2.THRESH_BINARY)\n",
        "    return np.sum(thresh)\n",
        "\n",
        "\n",
        "def select_motion_videos(frames, motion_threshold=50000):\n",
        "    total_motion = 0\n",
        "    for i in range(len(frames) - 1):\n",
        "        total_motion += calculate_frame_difference(frames[i], frames[i + 1])\n",
        "    return total_motion > motion_threshold"
      ]
    },
    {
      "cell_type": "code",
      "execution_count": null,
      "metadata": {
        "id": "7ylBLfWkWTmN"
      },
      "outputs": [],
      "source": [
        "def normalize_video_duration(frames, target_length=30):\n",
        "    num_frames = len(frames)\n",
        "    if num_frames == target_length:\n",
        "        return frames\n",
        "    elif num_frames < target_length:\n",
        "        frame_indices = np.linspace(0, num_frames - 1, target_length, dtype=int)\n",
        "        interpolated_frames = [frames[i] for i in frame_indices]\n",
        "        return interpolated_frames\n",
        "    else:\n",
        "        frame_indices = np.linspace(0, num_frames - 1, target_length, dtype=int)\n",
        "        sampled_frames = [frames[i] for i in frame_indices]\n",
        "        return sampled_frames"
      ]
    },
    {
      "cell_type": "code",
      "execution_count": null,
      "metadata": {
        "id": "mUUUTxJkWTmN"
      },
      "outputs": [],
      "source": [
        "def save_video(frames, output_path, target_fps=30):\n",
        "    height, width, _ = frames[0].shape\n",
        "    fourcc = cv2.VideoWriter_fourcc(*\"mp4v\")\n",
        "    out = cv2.VideoWriter(output_path, fourcc, target_fps, (width, height))\n",
        "    for frame in frames:\n",
        "        out.write(frame)\n",
        "    out.release()\n",
        "\n",
        "\n",
        "def preprocess_pipeline(\n",
        "    input_root,\n",
        "    output_root,\n",
        "    target_size=(224, 224),\n",
        "    target_fps=30,\n",
        "    target_length=30,\n",
        "    motion_threshold=50000,\n",
        "):\n",
        "    for folder in [\"train\", \"test\"]:  # Process both train and test folders\n",
        "        input_folder = os.path.join(input_root, folder)\n",
        "        output_folder = os.path.join(output_root, folder)\n",
        "        os.makedirs(output_folder, exist_ok=True)\n",
        "\n",
        "        # Iterate over subfolders corresponding to labels\n",
        "        for label in os.listdir(input_folder):\n",
        "            label_input_folder = os.path.join(input_folder, label)\n",
        "            label_output_folder = os.path.join(output_folder, label)\n",
        "\n",
        "            if not os.path.isdir(label_input_folder):  # Skip non-folder entries\n",
        "                continue\n",
        "\n",
        "            os.makedirs(label_output_folder, exist_ok=True)\n",
        "\n",
        "            # Iterate over video files in the label subfolder\n",
        "            for file in tqdm(\n",
        "                os.listdir(label_input_folder),\n",
        "                desc=f\"Processing {folder}/{label} Videos\",\n",
        "                unit=\"video\", leave=False\n",
        "            ):\n",
        "                video_path = os.path.join(label_input_folder, file)\n",
        "                output_path = os.path.join(\n",
        "                    label_output_folder,\n",
        "                    f\"{os.path.splitext(file)[0]}_processed.mp4\",\n",
        "                )\n",
        "\n",
        "                try:\n",
        "                    # Resize video\n",
        "                    frames, fps = resize_video(video_path, target_size)\n",
        "                    if frames is None:\n",
        "                        continue\n",
        "\n",
        "                    # Normalize FPS\n",
        "                    frames = normalize_fps(frames, fps, target_fps)\n",
        "\n",
        "                    # Brightness normalization\n",
        "                    frames = apply_brightness_normalization(frames)\n",
        "\n",
        "                    # Motion-based selection\n",
        "                    # if not select_motion_videos(frames, motion_threshold):\n",
        "                    #     continue\n",
        "\n",
        "                    # Normalize duration\n",
        "                    frames = normalize_video_duration(frames, target_length)\n",
        "\n",
        "                    # Save the final processed video\n",
        "                    save_video(frames, output_path, target_fps)\n",
        "\n",
        "                except Exception as e:\n",
        "                    print(f\"Error processing {video_path}: {e}\")\n"
      ]
    },
    {
      "cell_type": "code",
      "execution_count": null,
      "metadata": {
        "id": "lZI7L-NPWTmO",
        "outputId": "a566962b-97a7-456f-e980-51be8227050e",
        "colab": {
          "referenced_widgets": [
            "38a4943f9a2e40d48273e20c79a6478b",
            "0933d2b119ff4748a8ada6d9899a9c3d",
            "d5c21e55a5c547938e2c6fdb0a4b1a58",
            "60efd93d05f844ab90bb25fe80a9eae5",
            "ac2edd7d42ec4add87192287247018e7",
            "2298383fb90e4fe2b9aeb51ee6a34b4c",
            "2ad398cd5ddb4b56b99d6477d643a05e",
            "5f993fb855254898862e1c2a483b0b67",
            "7a566c40cc65423aaa7442bbf44c95dd",
            "7ff7c2f3db4849818382120eac825210",
            "f7b0b702bf204bb59a294459a4404ff0",
            "76d8d6749fbb421080da26eb9635c466",
            "c766fadab52e4eafb897fea2ee4f0a38",
            "8a1ea4567d67494eac2c6d7e844e1739",
            "1038f010cce846b3bb8d13690b0b37b1",
            "391b670ecb794ab88d8756fd635e7ea8",
            "3fb8257c37fb4f8ab074b374dbc1288e",
            "3b094fa732ab4a6aaed2a5e7a9398509",
            "8bb3280840af45bd9a6ff57cbeb6c71d",
            "333505b1fcb044b2b276164e888c747e",
            "95305465d48e4ed88e4dfe545e5ee117",
            "724516bebd024d6cb2e05876387047d9",
            "bfe723092ea54fa3805aa19a53283be5",
            "690c3bfcf551491aaa1ea84cd6ac3d55",
            "7d5e344b7a97464bb689499c35b47ba8",
            "56cdb7c8c8cb4a77a23b3b9da297746b",
            "bf83c98cb46b470e8354576937193739",
            "b9a208a3708c4aa0865c08f8065d3ec8",
            "0b817c04be2c4875817d33d66f345116",
            "853f828296544d9e8ceba5e79f97d946",
            "7b0c3f555da3456b8f467f9d81231ead",
            "a96393e8353b4f2bbe0b0909b8203d2d",
            "869daa28fefb4938a78677a87d8c0434",
            "9bd389d25d334fd8aa2fac544fe9d075",
            "3cf5f85288f34d369b10f15de00b91e9",
            "5071b4fdec3043abbbe6155015c7d4fc",
            "8654cc7b00724482bba13a01a4e235c0",
            "d1a5c60698c64685b4a7bef420881e6c",
            "dba06a60bac94106b3ab59d6c48282df",
            "d67302a9fa8d4c958e72b25993c7287f",
            "5c46bddfa23c4a6a9dd892e7510567aa",
            "a4d72a3b34d1470ba74d0f50f0e7b797",
            "2166a67861c94182b132290572196571",
            "16182f3495844f99b3b40fee9d84f920",
            "cf6ad6d4791242ba99a9538d95fb0470",
            "47e9dfe4fe6543eb94fadb1a944db94f",
            "2423a00a6e854ff9a08e440602228ef3",
            "7d0d0a43db1e4548b6c28fd191854c50",
            "988629d6f0c6466c8b6a12c604585046",
            "0d38cad7461a4df9925f803a1439ba34",
            "5a1a6b7b62514d9eb0f14c130c907c62",
            "839e680f145547289cef46b347e98d4f",
            "4b3c15c9e6c04dd7910c460ef24ff3cd",
            "4365ecf6ce924792a7218d0ca68469e7",
            "164f4a4aa53048109cd905c4d9c0bfa8",
            "f633757df32944c9bd63598286f92c6f",
            "5f84d5543c0c41b48f7a39ea3d702914",
            "157a795c4d8948c5b590d28181d0afc3",
            "e0651811162446cc83a115ca9fca073c",
            "28475e66c9a0494d8cf20446c8b6e9d6"
          ]
        }
      },
      "outputs": [
        {
          "data": {
            "application/vnd.jupyter.widget-view+json": {
              "model_id": "38a4943f9a2e40d48273e20c79a6478b",
              "version_major": 2,
              "version_minor": 0
            },
            "text/plain": [
              "Processing train/adik Videos:   0%|          | 0/8 [00:00<?, ?video/s]"
            ]
          },
          "metadata": {},
          "output_type": "display_data"
        },
        {
          "data": {
            "application/vnd.jupyter.widget-view+json": {
              "model_id": "0933d2b119ff4748a8ada6d9899a9c3d",
              "version_major": 2,
              "version_minor": 0
            },
            "text/plain": [
              "Processing train/anak Videos:   0%|          | 0/8 [00:00<?, ?video/s]"
            ]
          },
          "metadata": {},
          "output_type": "display_data"
        },
        {
          "data": {
            "application/vnd.jupyter.widget-view+json": {
              "model_id": "d5c21e55a5c547938e2c6fdb0a4b1a58",
              "version_major": 2,
              "version_minor": 0
            },
            "text/plain": [
              "Processing train/besar Videos:   0%|          | 0/8 [00:00<?, ?video/s]"
            ]
          },
          "metadata": {},
          "output_type": "display_data"
        },
        {
          "data": {
            "application/vnd.jupyter.widget-view+json": {
              "model_id": "60efd93d05f844ab90bb25fe80a9eae5",
              "version_major": 2,
              "version_minor": 0
            },
            "text/plain": [
              "Processing train/buka Videos:   0%|          | 0/8 [00:00<?, ?video/s]"
            ]
          },
          "metadata": {},
          "output_type": "display_data"
        },
        {
          "data": {
            "application/vnd.jupyter.widget-view+json": {
              "model_id": "ac2edd7d42ec4add87192287247018e7",
              "version_major": 2,
              "version_minor": 0
            },
            "text/plain": [
              "Processing train/buruk Videos:   0%|          | 0/8 [00:00<?, ?video/s]"
            ]
          },
          "metadata": {},
          "output_type": "display_data"
        },
        {
          "data": {
            "application/vnd.jupyter.widget-view+json": {
              "model_id": "2298383fb90e4fe2b9aeb51ee6a34b4c",
              "version_major": 2,
              "version_minor": 0
            },
            "text/plain": [
              "Processing train/dengar Videos:   0%|          | 0/8 [00:00<?, ?video/s]"
            ]
          },
          "metadata": {},
          "output_type": "display_data"
        },
        {
          "data": {
            "application/vnd.jupyter.widget-view+json": {
              "model_id": "2ad398cd5ddb4b56b99d6477d643a05e",
              "version_major": 2,
              "version_minor": 0
            },
            "text/plain": [
              "Processing train/gembira Videos:   0%|          | 0/8 [00:00<?, ?video/s]"
            ]
          },
          "metadata": {},
          "output_type": "display_data"
        },
        {
          "data": {
            "application/vnd.jupyter.widget-view+json": {
              "model_id": "5f993fb855254898862e1c2a483b0b67",
              "version_major": 2,
              "version_minor": 0
            },
            "text/plain": [
              "Processing train/guru Videos:   0%|          | 0/8 [00:00<?, ?video/s]"
            ]
          },
          "metadata": {},
          "output_type": "display_data"
        },
        {
          "data": {
            "application/vnd.jupyter.widget-view+json": {
              "model_id": "7a566c40cc65423aaa7442bbf44c95dd",
              "version_major": 2,
              "version_minor": 0
            },
            "text/plain": [
              "Processing train/haus Videos:   0%|          | 0/8 [00:00<?, ?video/s]"
            ]
          },
          "metadata": {},
          "output_type": "display_data"
        },
        {
          "data": {
            "application/vnd.jupyter.widget-view+json": {
              "model_id": "7ff7c2f3db4849818382120eac825210",
              "version_major": 2,
              "version_minor": 0
            },
            "text/plain": [
              "Processing train/ibu Videos:   0%|          | 0/8 [00:00<?, ?video/s]"
            ]
          },
          "metadata": {},
          "output_type": "display_data"
        },
        {
          "data": {
            "application/vnd.jupyter.widget-view+json": {
              "model_id": "f7b0b702bf204bb59a294459a4404ff0",
              "version_major": 2,
              "version_minor": 0
            },
            "text/plain": [
              "Processing train/jalan Videos:   0%|          | 0/8 [00:00<?, ?video/s]"
            ]
          },
          "metadata": {},
          "output_type": "display_data"
        },
        {
          "data": {
            "application/vnd.jupyter.widget-view+json": {
              "model_id": "76d8d6749fbb421080da26eb9635c466",
              "version_major": 2,
              "version_minor": 0
            },
            "text/plain": [
              "Processing train/keluarga Videos:   0%|          | 0/8 [00:00<?, ?video/s]"
            ]
          },
          "metadata": {},
          "output_type": "display_data"
        },
        {
          "data": {
            "application/vnd.jupyter.widget-view+json": {
              "model_id": "c766fadab52e4eafb897fea2ee4f0a38",
              "version_major": 2,
              "version_minor": 0
            },
            "text/plain": [
              "Processing train/kertas Videos:   0%|          | 0/8 [00:00<?, ?video/s]"
            ]
          },
          "metadata": {},
          "output_type": "display_data"
        },
        {
          "data": {
            "application/vnd.jupyter.widget-view+json": {
              "model_id": "8a1ea4567d67494eac2c6d7e844e1739",
              "version_major": 2,
              "version_minor": 0
            },
            "text/plain": [
              "Processing train/kucing Videos:   0%|          | 0/8 [00:00<?, ?video/s]"
            ]
          },
          "metadata": {},
          "output_type": "display_data"
        },
        {
          "data": {
            "application/vnd.jupyter.widget-view+json": {
              "model_id": "1038f010cce846b3bb8d13690b0b37b1",
              "version_major": 2,
              "version_minor": 0
            },
            "text/plain": [
              "Processing train/lapar Videos:   0%|          | 0/8 [00:00<?, ?video/s]"
            ]
          },
          "metadata": {},
          "output_type": "display_data"
        },
        {
          "data": {
            "application/vnd.jupyter.widget-view+json": {
              "model_id": "391b670ecb794ab88d8756fd635e7ea8",
              "version_major": 2,
              "version_minor": 0
            },
            "text/plain": [
              "Processing train/lihat Videos:   0%|          | 0/8 [00:00<?, ?video/s]"
            ]
          },
          "metadata": {},
          "output_type": "display_data"
        },
        {
          "data": {
            "application/vnd.jupyter.widget-view+json": {
              "model_id": "3fb8257c37fb4f8ab074b374dbc1288e",
              "version_major": 2,
              "version_minor": 0
            },
            "text/plain": [
              "Processing train/maaf Videos:   0%|          | 0/8 [00:00<?, ?video/s]"
            ]
          },
          "metadata": {},
          "output_type": "display_data"
        },
        {
          "data": {
            "application/vnd.jupyter.widget-view+json": {
              "model_id": "3b094fa732ab4a6aaed2a5e7a9398509",
              "version_major": 2,
              "version_minor": 0
            },
            "text/plain": [
              "Processing train/main Videos:   0%|          | 0/8 [00:00<?, ?video/s]"
            ]
          },
          "metadata": {},
          "output_type": "display_data"
        },
        {
          "data": {
            "application/vnd.jupyter.widget-view+json": {
              "model_id": "8bb3280840af45bd9a6ff57cbeb6c71d",
              "version_major": 2,
              "version_minor": 0
            },
            "text/plain": [
              "Processing train/makan Videos:   0%|          | 0/7 [00:00<?, ?video/s]"
            ]
          },
          "metadata": {},
          "output_type": "display_data"
        },
        {
          "data": {
            "application/vnd.jupyter.widget-view+json": {
              "model_id": "333505b1fcb044b2b276164e888c747e",
              "version_major": 2,
              "version_minor": 0
            },
            "text/plain": [
              "Processing train/marah Videos:   0%|          | 0/9 [00:00<?, ?video/s]"
            ]
          },
          "metadata": {},
          "output_type": "display_data"
        },
        {
          "data": {
            "application/vnd.jupyter.widget-view+json": {
              "model_id": "95305465d48e4ed88e4dfe545e5ee117",
              "version_major": 2,
              "version_minor": 0
            },
            "text/plain": [
              "Processing train/minum Videos:   0%|          | 0/8 [00:00<?, ?video/s]"
            ]
          },
          "metadata": {},
          "output_type": "display_data"
        },
        {
          "data": {
            "application/vnd.jupyter.widget-view+json": {
              "model_id": "724516bebd024d6cb2e05876387047d9",
              "version_major": 2,
              "version_minor": 0
            },
            "text/plain": [
              "Processing train/nama Videos:   0%|          | 0/8 [00:00<?, ?video/s]"
            ]
          },
          "metadata": {},
          "output_type": "display_data"
        },
        {
          "data": {
            "application/vnd.jupyter.widget-view+json": {
              "model_id": "bfe723092ea54fa3805aa19a53283be5",
              "version_major": 2,
              "version_minor": 0
            },
            "text/plain": [
              "Processing train/orang Videos:   0%|          | 0/7 [00:00<?, ?video/s]"
            ]
          },
          "metadata": {},
          "output_type": "display_data"
        },
        {
          "data": {
            "application/vnd.jupyter.widget-view+json": {
              "model_id": "690c3bfcf551491aaa1ea84cd6ac3d55",
              "version_major": 2,
              "version_minor": 0
            },
            "text/plain": [
              "Processing train/panggil Videos:   0%|          | 0/8 [00:00<?, ?video/s]"
            ]
          },
          "metadata": {},
          "output_type": "display_data"
        },
        {
          "data": {
            "application/vnd.jupyter.widget-view+json": {
              "model_id": "7d5e344b7a97464bb689499c35b47ba8",
              "version_major": 2,
              "version_minor": 0
            },
            "text/plain": [
              "Processing train/rumah Videos:   0%|          | 0/8 [00:00<?, ?video/s]"
            ]
          },
          "metadata": {},
          "output_type": "display_data"
        },
        {
          "data": {
            "application/vnd.jupyter.widget-view+json": {
              "model_id": "56cdb7c8c8cb4a77a23b3b9da297746b",
              "version_major": 2,
              "version_minor": 0
            },
            "text/plain": [
              "Processing train/sedikit Videos:   0%|          | 0/8 [00:00<?, ?video/s]"
            ]
          },
          "metadata": {},
          "output_type": "display_data"
        },
        {
          "data": {
            "application/vnd.jupyter.widget-view+json": {
              "model_id": "bf83c98cb46b470e8354576937193739",
              "version_major": 2,
              "version_minor": 0
            },
            "text/plain": [
              "Processing train/selamat Videos:   0%|          | 0/8 [00:00<?, ?video/s]"
            ]
          },
          "metadata": {},
          "output_type": "display_data"
        },
        {
          "data": {
            "application/vnd.jupyter.widget-view+json": {
              "model_id": "b9a208a3708c4aa0865c08f8065d3ec8",
              "version_major": 2,
              "version_minor": 0
            },
            "text/plain": [
              "Processing train/senyum Videos:   0%|          | 0/8 [00:00<?, ?video/s]"
            ]
          },
          "metadata": {},
          "output_type": "display_data"
        },
        {
          "data": {
            "application/vnd.jupyter.widget-view+json": {
              "model_id": "0b817c04be2c4875817d33d66f345116",
              "version_major": 2,
              "version_minor": 0
            },
            "text/plain": [
              "Processing train/teman Videos:   0%|          | 0/7 [00:00<?, ?video/s]"
            ]
          },
          "metadata": {},
          "output_type": "display_data"
        },
        {
          "data": {
            "application/vnd.jupyter.widget-view+json": {
              "model_id": "853f828296544d9e8ceba5e79f97d946",
              "version_major": 2,
              "version_minor": 0
            },
            "text/plain": [
              "Processing train/tidur Videos:   0%|          | 0/7 [00:00<?, ?video/s]"
            ]
          },
          "metadata": {},
          "output_type": "display_data"
        },
        {
          "data": {
            "application/vnd.jupyter.widget-view+json": {
              "model_id": "7b0c3f555da3456b8f467f9d81231ead",
              "version_major": 2,
              "version_minor": 0
            },
            "text/plain": [
              "Processing test/adik Videos:   0%|          | 0/2 [00:00<?, ?video/s]"
            ]
          },
          "metadata": {},
          "output_type": "display_data"
        },
        {
          "data": {
            "application/vnd.jupyter.widget-view+json": {
              "model_id": "a96393e8353b4f2bbe0b0909b8203d2d",
              "version_major": 2,
              "version_minor": 0
            },
            "text/plain": [
              "Processing test/anak Videos:   0%|          | 0/2 [00:00<?, ?video/s]"
            ]
          },
          "metadata": {},
          "output_type": "display_data"
        },
        {
          "data": {
            "application/vnd.jupyter.widget-view+json": {
              "model_id": "869daa28fefb4938a78677a87d8c0434",
              "version_major": 2,
              "version_minor": 0
            },
            "text/plain": [
              "Processing test/besar Videos:   0%|          | 0/2 [00:00<?, ?video/s]"
            ]
          },
          "metadata": {},
          "output_type": "display_data"
        },
        {
          "data": {
            "application/vnd.jupyter.widget-view+json": {
              "model_id": "9bd389d25d334fd8aa2fac544fe9d075",
              "version_major": 2,
              "version_minor": 0
            },
            "text/plain": [
              "Processing test/buka Videos:   0%|          | 0/2 [00:00<?, ?video/s]"
            ]
          },
          "metadata": {},
          "output_type": "display_data"
        },
        {
          "data": {
            "application/vnd.jupyter.widget-view+json": {
              "model_id": "3cf5f85288f34d369b10f15de00b91e9",
              "version_major": 2,
              "version_minor": 0
            },
            "text/plain": [
              "Processing test/buruk Videos:   0%|          | 0/2 [00:00<?, ?video/s]"
            ]
          },
          "metadata": {},
          "output_type": "display_data"
        },
        {
          "data": {
            "application/vnd.jupyter.widget-view+json": {
              "model_id": "5071b4fdec3043abbbe6155015c7d4fc",
              "version_major": 2,
              "version_minor": 0
            },
            "text/plain": [
              "Processing test/dengar Videos:   0%|          | 0/2 [00:00<?, ?video/s]"
            ]
          },
          "metadata": {},
          "output_type": "display_data"
        },
        {
          "data": {
            "application/vnd.jupyter.widget-view+json": {
              "model_id": "8654cc7b00724482bba13a01a4e235c0",
              "version_major": 2,
              "version_minor": 0
            },
            "text/plain": [
              "Processing test/gembira Videos:   0%|          | 0/2 [00:00<?, ?video/s]"
            ]
          },
          "metadata": {},
          "output_type": "display_data"
        },
        {
          "data": {
            "application/vnd.jupyter.widget-view+json": {
              "model_id": "d1a5c60698c64685b4a7bef420881e6c",
              "version_major": 2,
              "version_minor": 0
            },
            "text/plain": [
              "Processing test/guru Videos:   0%|          | 0/2 [00:00<?, ?video/s]"
            ]
          },
          "metadata": {},
          "output_type": "display_data"
        },
        {
          "data": {
            "application/vnd.jupyter.widget-view+json": {
              "model_id": "dba06a60bac94106b3ab59d6c48282df",
              "version_major": 2,
              "version_minor": 0
            },
            "text/plain": [
              "Processing test/haus Videos:   0%|          | 0/2 [00:00<?, ?video/s]"
            ]
          },
          "metadata": {},
          "output_type": "display_data"
        },
        {
          "data": {
            "application/vnd.jupyter.widget-view+json": {
              "model_id": "d67302a9fa8d4c958e72b25993c7287f",
              "version_major": 2,
              "version_minor": 0
            },
            "text/plain": [
              "Processing test/ibu Videos:   0%|          | 0/2 [00:00<?, ?video/s]"
            ]
          },
          "metadata": {},
          "output_type": "display_data"
        },
        {
          "data": {
            "application/vnd.jupyter.widget-view+json": {
              "model_id": "5c46bddfa23c4a6a9dd892e7510567aa",
              "version_major": 2,
              "version_minor": 0
            },
            "text/plain": [
              "Processing test/jalan Videos:   0%|          | 0/2 [00:00<?, ?video/s]"
            ]
          },
          "metadata": {},
          "output_type": "display_data"
        },
        {
          "data": {
            "application/vnd.jupyter.widget-view+json": {
              "model_id": "a4d72a3b34d1470ba74d0f50f0e7b797",
              "version_major": 2,
              "version_minor": 0
            },
            "text/plain": [
              "Processing test/keluarga Videos:   0%|          | 0/2 [00:00<?, ?video/s]"
            ]
          },
          "metadata": {},
          "output_type": "display_data"
        },
        {
          "data": {
            "application/vnd.jupyter.widget-view+json": {
              "model_id": "2166a67861c94182b132290572196571",
              "version_major": 2,
              "version_minor": 0
            },
            "text/plain": [
              "Processing test/kertas Videos:   0%|          | 0/2 [00:00<?, ?video/s]"
            ]
          },
          "metadata": {},
          "output_type": "display_data"
        },
        {
          "data": {
            "application/vnd.jupyter.widget-view+json": {
              "model_id": "16182f3495844f99b3b40fee9d84f920",
              "version_major": 2,
              "version_minor": 0
            },
            "text/plain": [
              "Processing test/kucing Videos:   0%|          | 0/2 [00:00<?, ?video/s]"
            ]
          },
          "metadata": {},
          "output_type": "display_data"
        },
        {
          "data": {
            "application/vnd.jupyter.widget-view+json": {
              "model_id": "cf6ad6d4791242ba99a9538d95fb0470",
              "version_major": 2,
              "version_minor": 0
            },
            "text/plain": [
              "Processing test/lapar Videos:   0%|          | 0/2 [00:00<?, ?video/s]"
            ]
          },
          "metadata": {},
          "output_type": "display_data"
        },
        {
          "data": {
            "application/vnd.jupyter.widget-view+json": {
              "model_id": "47e9dfe4fe6543eb94fadb1a944db94f",
              "version_major": 2,
              "version_minor": 0
            },
            "text/plain": [
              "Processing test/lihat Videos:   0%|          | 0/2 [00:00<?, ?video/s]"
            ]
          },
          "metadata": {},
          "output_type": "display_data"
        },
        {
          "data": {
            "application/vnd.jupyter.widget-view+json": {
              "model_id": "2423a00a6e854ff9a08e440602228ef3",
              "version_major": 2,
              "version_minor": 0
            },
            "text/plain": [
              "Processing test/maaf Videos:   0%|          | 0/2 [00:00<?, ?video/s]"
            ]
          },
          "metadata": {},
          "output_type": "display_data"
        },
        {
          "data": {
            "application/vnd.jupyter.widget-view+json": {
              "model_id": "7d0d0a43db1e4548b6c28fd191854c50",
              "version_major": 2,
              "version_minor": 0
            },
            "text/plain": [
              "Processing test/main Videos:   0%|          | 0/2 [00:00<?, ?video/s]"
            ]
          },
          "metadata": {},
          "output_type": "display_data"
        },
        {
          "data": {
            "application/vnd.jupyter.widget-view+json": {
              "model_id": "988629d6f0c6466c8b6a12c604585046",
              "version_major": 2,
              "version_minor": 0
            },
            "text/plain": [
              "Processing test/makan Videos:   0%|          | 0/2 [00:00<?, ?video/s]"
            ]
          },
          "metadata": {},
          "output_type": "display_data"
        },
        {
          "data": {
            "application/vnd.jupyter.widget-view+json": {
              "model_id": "0d38cad7461a4df9925f803a1439ba34",
              "version_major": 2,
              "version_minor": 0
            },
            "text/plain": [
              "Processing test/marah Videos:   0%|          | 0/2 [00:00<?, ?video/s]"
            ]
          },
          "metadata": {},
          "output_type": "display_data"
        },
        {
          "data": {
            "application/vnd.jupyter.widget-view+json": {
              "model_id": "5a1a6b7b62514d9eb0f14c130c907c62",
              "version_major": 2,
              "version_minor": 0
            },
            "text/plain": [
              "Processing test/minum Videos:   0%|          | 0/2 [00:00<?, ?video/s]"
            ]
          },
          "metadata": {},
          "output_type": "display_data"
        },
        {
          "data": {
            "application/vnd.jupyter.widget-view+json": {
              "model_id": "839e680f145547289cef46b347e98d4f",
              "version_major": 2,
              "version_minor": 0
            },
            "text/plain": [
              "Processing test/nama Videos:   0%|          | 0/2 [00:00<?, ?video/s]"
            ]
          },
          "metadata": {},
          "output_type": "display_data"
        },
        {
          "data": {
            "application/vnd.jupyter.widget-view+json": {
              "model_id": "4b3c15c9e6c04dd7910c460ef24ff3cd",
              "version_major": 2,
              "version_minor": 0
            },
            "text/plain": [
              "Processing test/orang Videos:   0%|          | 0/2 [00:00<?, ?video/s]"
            ]
          },
          "metadata": {},
          "output_type": "display_data"
        },
        {
          "data": {
            "application/vnd.jupyter.widget-view+json": {
              "model_id": "4365ecf6ce924792a7218d0ca68469e7",
              "version_major": 2,
              "version_minor": 0
            },
            "text/plain": [
              "Processing test/panggil Videos:   0%|          | 0/2 [00:00<?, ?video/s]"
            ]
          },
          "metadata": {},
          "output_type": "display_data"
        },
        {
          "data": {
            "application/vnd.jupyter.widget-view+json": {
              "model_id": "164f4a4aa53048109cd905c4d9c0bfa8",
              "version_major": 2,
              "version_minor": 0
            },
            "text/plain": [
              "Processing test/rumah Videos:   0%|          | 0/2 [00:00<?, ?video/s]"
            ]
          },
          "metadata": {},
          "output_type": "display_data"
        },
        {
          "data": {
            "application/vnd.jupyter.widget-view+json": {
              "model_id": "f633757df32944c9bd63598286f92c6f",
              "version_major": 2,
              "version_minor": 0
            },
            "text/plain": [
              "Processing test/sedikit Videos:   0%|          | 0/2 [00:00<?, ?video/s]"
            ]
          },
          "metadata": {},
          "output_type": "display_data"
        },
        {
          "data": {
            "application/vnd.jupyter.widget-view+json": {
              "model_id": "5f84d5543c0c41b48f7a39ea3d702914",
              "version_major": 2,
              "version_minor": 0
            },
            "text/plain": [
              "Processing test/selamat Videos:   0%|          | 0/2 [00:00<?, ?video/s]"
            ]
          },
          "metadata": {},
          "output_type": "display_data"
        },
        {
          "data": {
            "application/vnd.jupyter.widget-view+json": {
              "model_id": "157a795c4d8948c5b590d28181d0afc3",
              "version_major": 2,
              "version_minor": 0
            },
            "text/plain": [
              "Processing test/senyum Videos:   0%|          | 0/2 [00:00<?, ?video/s]"
            ]
          },
          "metadata": {},
          "output_type": "display_data"
        },
        {
          "data": {
            "application/vnd.jupyter.widget-view+json": {
              "model_id": "e0651811162446cc83a115ca9fca073c",
              "version_major": 2,
              "version_minor": 0
            },
            "text/plain": [
              "Processing test/teman Videos:   0%|          | 0/2 [00:00<?, ?video/s]"
            ]
          },
          "metadata": {},
          "output_type": "display_data"
        },
        {
          "data": {
            "application/vnd.jupyter.widget-view+json": {
              "model_id": "28475e66c9a0494d8cf20446c8b6e9d6",
              "version_major": 2,
              "version_minor": 0
            },
            "text/plain": [
              "Processing test/tidur Videos:   0%|          | 0/2 [00:00<?, ?video/s]"
            ]
          },
          "metadata": {},
          "output_type": "display_data"
        }
      ],
      "source": [
        "input_folder = \"data_splits_muted/\"  # Path to input videos\n",
        "output_folder = \"data_processed/\"  # Path to save final processed videos\n",
        "preprocess_pipeline(input_folder, output_folder)"
      ]
    }
  ],
  "metadata": {
    "kernelspec": {
      "display_name": ".venv",
      "language": "python",
      "name": "python3"
    },
    "language_info": {
      "codemirror_mode": {
        "name": "ipython",
        "version": 3
      },
      "file_extension": ".py",
      "mimetype": "text/x-python",
      "name": "python",
      "nbconvert_exporter": "python",
      "pygments_lexer": "ipython3",
      "version": "3.12.4"
    },
    "colab": {
      "provenance": []
    }
  },
  "nbformat": 4,
  "nbformat_minor": 0
}