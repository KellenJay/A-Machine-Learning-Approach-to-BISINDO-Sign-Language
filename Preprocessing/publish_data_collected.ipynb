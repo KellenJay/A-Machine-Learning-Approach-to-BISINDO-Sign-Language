{
  "cells": [
    {
      "cell_type": "code",
      "execution_count": null,
      "metadata": {
        "id": "RXURB6mFWuCE"
      },
      "outputs": [],
      "source": [
        "# %pip install google-api-python-client google-auth google-auth-httplib2 google-auth-oauthlib\n",
        "# %pip install opencv-python tqdm ipywidgets scikit-learn"
      ]
    },
    {
      "cell_type": "code",
      "execution_count": null,
      "metadata": {
        "id": "qaGufT2oWuCG",
        "outputId": "5071f948-3a4d-4572-aa49-f1875ac812cf"
      },
      "outputs": [
        {
          "data": {
            "text/plain": [
              "<google.oauth2.credentials.Credentials at 0x2304e3e45c0>"
            ]
          },
          "execution_count": 1,
          "metadata": {},
          "output_type": "execute_result"
        }
      ],
      "source": [
        "from google.oauth2.credentials import Credentials\n",
        "from google_auth_oauthlib.flow import InstalledAppFlow\n",
        "from google.auth.transport.requests import Request\n",
        "import os\n",
        "\n",
        "SCOPES = [\"https://www.googleapis.com/auth/drive\"]\n",
        "\n",
        "\n",
        "def authenticate_drive():\n",
        "    creds = None\n",
        "    if os.path.exists(\"token.json\"):\n",
        "        creds = Credentials.from_authorized_user_file(\"token.json\", SCOPES)\n",
        "    if not creds or not creds.valid:\n",
        "        if creds and creds.expired and creds.refresh_token:\n",
        "            creds.refresh(Request())\n",
        "        else:\n",
        "            flow = InstalledAppFlow.from_client_secrets_file(\"credentials.json\", SCOPES)\n",
        "            creds = flow.run_local_server(port=0)\n",
        "        with open(\"token.json\", \"w\") as token:\n",
        "            token.write(creds.to_json())\n",
        "    return creds\n",
        "\n",
        "authenticate_drive()"
      ]
    },
    {
      "cell_type": "code",
      "execution_count": null,
      "metadata": {
        "id": "rqy-zEVzWuCI",
        "outputId": "dec36919-2a02-4109-aa56-e328234f2026",
        "colab": {
          "referenced_widgets": [
            "c3cba69cdeb3410da43f5665feeca03a",
            "a495824ab18f40dc94861292d2ca556f",
            "17f05edee73747ef9ca9238438f1767f",
            "9d261becae444ce7bc19e472e2c3b9f5",
            "873685171359473c970df80b80ac9c65",
            "33124a7602314c61a06f0267017d6bd7",
            "7858f86e39794731996cbde9b01a4a6f",
            "e25620b8fc1843328ab41189910e4197",
            "cae536612d514ad687a0cf099acf1b06",
            "48dd62bfa48841d5a823eb6615fab928",
            "b6f2f0b386d24b78913062ec59459c45",
            "cc3e52dc5db24cd3ae589a0e8594b05c",
            "d2731ba71734423d81d2c766e9aa5ce6",
            "c95627403cf74b90b2c1a309b40ae744",
            "b9ed883f33b74cf59edce6698cd790e8",
            "cb6d294e93d04435af9e65369a26b5c1",
            "76fda658ee5c44d1839a080e23a05b5b",
            "772f12a9044b4a9bae114faa97b7198e",
            "c760949412cd4c37a3796b78dc439f14",
            "dc9109c1b1ef4347b01b9ebe8adb56d6",
            "4da8cf2ddffa4dbc93dd35a06dfecf26",
            "9a437ec8eb1244999a4e97351222ecda",
            "98ededc837f448bc8bc607925cd1941f",
            "d89d0a4bd471467d89de5c53923ecefb",
            "ed1c34c0af65480480911f6ddff273c5",
            "3c4c8108d710411db951d001d49e5d56",
            "2e9564689b9a4de19755b7a9569a3601",
            "420704c84b2e46aaae83b84445b3bc6e",
            "2a2ec77b0fd14eff854eb1f3e56ee1ae",
            "87c826f7392e48629889ca41986222ec",
            "c3ab911597ff46feab7e7b07ef620d2f"
          ]
        }
      },
      "outputs": [
        {
          "data": {
            "application/vnd.jupyter.widget-view+json": {
              "model_id": "c3cba69cdeb3410da43f5665feeca03a",
              "version_major": 2,
              "version_minor": 0
            },
            "text/plain": [
              "Processing folders:   0%|          | 0/30 [00:00<?, ?it/s]"
            ]
          },
          "metadata": {},
          "output_type": "display_data"
        },
        {
          "data": {
            "application/vnd.jupyter.widget-view+json": {
              "model_id": "a495824ab18f40dc94861292d2ca556f",
              "version_major": 2,
              "version_minor": 0
            },
            "text/plain": [
              "Processing videos in buruk:   0%|          | 0/10 [00:00<?, ?it/s]"
            ]
          },
          "metadata": {},
          "output_type": "display_data"
        },
        {
          "data": {
            "application/vnd.jupyter.widget-view+json": {
              "model_id": "17f05edee73747ef9ca9238438f1767f",
              "version_major": 2,
              "version_minor": 0
            },
            "text/plain": [
              "Processing videos in minum:   0%|          | 0/10 [00:00<?, ?it/s]"
            ]
          },
          "metadata": {},
          "output_type": "display_data"
        },
        {
          "data": {
            "application/vnd.jupyter.widget-view+json": {
              "model_id": "9d261becae444ce7bc19e472e2c3b9f5",
              "version_major": 2,
              "version_minor": 0
            },
            "text/plain": [
              "Processing videos in buka:   0%|          | 0/10 [00:00<?, ?it/s]"
            ]
          },
          "metadata": {},
          "output_type": "display_data"
        },
        {
          "data": {
            "application/vnd.jupyter.widget-view+json": {
              "model_id": "873685171359473c970df80b80ac9c65",
              "version_major": 2,
              "version_minor": 0
            },
            "text/plain": [
              "Processing videos in senyum:   0%|          | 0/10 [00:00<?, ?it/s]"
            ]
          },
          "metadata": {},
          "output_type": "display_data"
        },
        {
          "data": {
            "application/vnd.jupyter.widget-view+json": {
              "model_id": "33124a7602314c61a06f0267017d6bd7",
              "version_major": 2,
              "version_minor": 0
            },
            "text/plain": [
              "Processing videos in anak:   0%|          | 0/10 [00:00<?, ?it/s]"
            ]
          },
          "metadata": {},
          "output_type": "display_data"
        },
        {
          "data": {
            "application/vnd.jupyter.widget-view+json": {
              "model_id": "7858f86e39794731996cbde9b01a4a6f",
              "version_major": 2,
              "version_minor": 0
            },
            "text/plain": [
              "Processing videos in main:   0%|          | 0/10 [00:00<?, ?it/s]"
            ]
          },
          "metadata": {},
          "output_type": "display_data"
        },
        {
          "data": {
            "application/vnd.jupyter.widget-view+json": {
              "model_id": "e25620b8fc1843328ab41189910e4197",
              "version_major": 2,
              "version_minor": 0
            },
            "text/plain": [
              "Processing videos in tidur:   0%|          | 0/9 [00:00<?, ?it/s]"
            ]
          },
          "metadata": {},
          "output_type": "display_data"
        },
        {
          "data": {
            "application/vnd.jupyter.widget-view+json": {
              "model_id": "cae536612d514ad687a0cf099acf1b06",
              "version_major": 2,
              "version_minor": 0
            },
            "text/plain": [
              "Processing videos in makan:   0%|          | 0/9 [00:00<?, ?it/s]"
            ]
          },
          "metadata": {},
          "output_type": "display_data"
        },
        {
          "data": {
            "application/vnd.jupyter.widget-view+json": {
              "model_id": "48dd62bfa48841d5a823eb6615fab928",
              "version_major": 2,
              "version_minor": 0
            },
            "text/plain": [
              "Processing videos in jalan:   0%|          | 0/10 [00:00<?, ?it/s]"
            ]
          },
          "metadata": {},
          "output_type": "display_data"
        },
        {
          "data": {
            "application/vnd.jupyter.widget-view+json": {
              "model_id": "b6f2f0b386d24b78913062ec59459c45",
              "version_major": 2,
              "version_minor": 0
            },
            "text/plain": [
              "Processing videos in haus:   0%|          | 0/10 [00:00<?, ?it/s]"
            ]
          },
          "metadata": {},
          "output_type": "display_data"
        },
        {
          "data": {
            "application/vnd.jupyter.widget-view+json": {
              "model_id": "cc3e52dc5db24cd3ae589a0e8594b05c",
              "version_major": 2,
              "version_minor": 0
            },
            "text/plain": [
              "Processing videos in lapar:   0%|          | 0/10 [00:00<?, ?it/s]"
            ]
          },
          "metadata": {},
          "output_type": "display_data"
        },
        {
          "data": {
            "application/vnd.jupyter.widget-view+json": {
              "model_id": "d2731ba71734423d81d2c766e9aa5ce6",
              "version_major": 2,
              "version_minor": 0
            },
            "text/plain": [
              "Processing videos in dengar:   0%|          | 0/10 [00:00<?, ?it/s]"
            ]
          },
          "metadata": {},
          "output_type": "display_data"
        },
        {
          "data": {
            "application/vnd.jupyter.widget-view+json": {
              "model_id": "c95627403cf74b90b2c1a309b40ae744",
              "version_major": 2,
              "version_minor": 0
            },
            "text/plain": [
              "Processing videos in kertas:   0%|          | 0/10 [00:00<?, ?it/s]"
            ]
          },
          "metadata": {},
          "output_type": "display_data"
        },
        {
          "data": {
            "application/vnd.jupyter.widget-view+json": {
              "model_id": "b9ed883f33b74cf59edce6698cd790e8",
              "version_major": 2,
              "version_minor": 0
            },
            "text/plain": [
              "Processing videos in keluarga:   0%|          | 0/10 [00:00<?, ?it/s]"
            ]
          },
          "metadata": {},
          "output_type": "display_data"
        },
        {
          "data": {
            "application/vnd.jupyter.widget-view+json": {
              "model_id": "cb6d294e93d04435af9e65369a26b5c1",
              "version_major": 2,
              "version_minor": 0
            },
            "text/plain": [
              "Processing videos in gembira:   0%|          | 0/10 [00:00<?, ?it/s]"
            ]
          },
          "metadata": {},
          "output_type": "display_data"
        },
        {
          "data": {
            "application/vnd.jupyter.widget-view+json": {
              "model_id": "76fda658ee5c44d1839a080e23a05b5b",
              "version_major": 2,
              "version_minor": 0
            },
            "text/plain": [
              "Processing videos in teman:   0%|          | 0/9 [00:00<?, ?it/s]"
            ]
          },
          "metadata": {},
          "output_type": "display_data"
        },
        {
          "data": {
            "application/vnd.jupyter.widget-view+json": {
              "model_id": "772f12a9044b4a9bae114faa97b7198e",
              "version_major": 2,
              "version_minor": 0
            },
            "text/plain": [
              "Processing videos in panggil:   0%|          | 0/10 [00:00<?, ?it/s]"
            ]
          },
          "metadata": {},
          "output_type": "display_data"
        },
        {
          "data": {
            "application/vnd.jupyter.widget-view+json": {
              "model_id": "c760949412cd4c37a3796b78dc439f14",
              "version_major": 2,
              "version_minor": 0
            },
            "text/plain": [
              "Processing videos in nama:   0%|          | 0/10 [00:00<?, ?it/s]"
            ]
          },
          "metadata": {},
          "output_type": "display_data"
        },
        {
          "data": {
            "application/vnd.jupyter.widget-view+json": {
              "model_id": "dc9109c1b1ef4347b01b9ebe8adb56d6",
              "version_major": 2,
              "version_minor": 0
            },
            "text/plain": [
              "Processing videos in kucing:   0%|          | 0/10 [00:00<?, ?it/s]"
            ]
          },
          "metadata": {},
          "output_type": "display_data"
        },
        {
          "data": {
            "application/vnd.jupyter.widget-view+json": {
              "model_id": "4da8cf2ddffa4dbc93dd35a06dfecf26",
              "version_major": 2,
              "version_minor": 0
            },
            "text/plain": [
              "Processing videos in marah:   0%|          | 0/11 [00:00<?, ?it/s]"
            ]
          },
          "metadata": {},
          "output_type": "display_data"
        },
        {
          "data": {
            "application/vnd.jupyter.widget-view+json": {
              "model_id": "9a437ec8eb1244999a4e97351222ecda",
              "version_major": 2,
              "version_minor": 0
            },
            "text/plain": [
              "Processing videos in besar:   0%|          | 0/10 [00:00<?, ?it/s]"
            ]
          },
          "metadata": {},
          "output_type": "display_data"
        },
        {
          "data": {
            "application/vnd.jupyter.widget-view+json": {
              "model_id": "98ededc837f448bc8bc607925cd1941f",
              "version_major": 2,
              "version_minor": 0
            },
            "text/plain": [
              "Processing videos in adik:   0%|          | 0/10 [00:00<?, ?it/s]"
            ]
          },
          "metadata": {},
          "output_type": "display_data"
        },
        {
          "data": {
            "application/vnd.jupyter.widget-view+json": {
              "model_id": "d89d0a4bd471467d89de5c53923ecefb",
              "version_major": 2,
              "version_minor": 0
            },
            "text/plain": [
              "Processing videos in maaf:   0%|          | 0/10 [00:00<?, ?it/s]"
            ]
          },
          "metadata": {},
          "output_type": "display_data"
        },
        {
          "data": {
            "application/vnd.jupyter.widget-view+json": {
              "model_id": "ed1c34c0af65480480911f6ddff273c5",
              "version_major": 2,
              "version_minor": 0
            },
            "text/plain": [
              "Processing videos in sedikit:   0%|          | 0/10 [00:00<?, ?it/s]"
            ]
          },
          "metadata": {},
          "output_type": "display_data"
        },
        {
          "data": {
            "application/vnd.jupyter.widget-view+json": {
              "model_id": "3c4c8108d710411db951d001d49e5d56",
              "version_major": 2,
              "version_minor": 0
            },
            "text/plain": [
              "Processing videos in orang:   0%|          | 0/9 [00:00<?, ?it/s]"
            ]
          },
          "metadata": {},
          "output_type": "display_data"
        },
        {
          "data": {
            "application/vnd.jupyter.widget-view+json": {
              "model_id": "2e9564689b9a4de19755b7a9569a3601",
              "version_major": 2,
              "version_minor": 0
            },
            "text/plain": [
              "Processing videos in rumah:   0%|          | 0/10 [00:00<?, ?it/s]"
            ]
          },
          "metadata": {},
          "output_type": "display_data"
        },
        {
          "data": {
            "application/vnd.jupyter.widget-view+json": {
              "model_id": "420704c84b2e46aaae83b84445b3bc6e",
              "version_major": 2,
              "version_minor": 0
            },
            "text/plain": [
              "Processing videos in guru:   0%|          | 0/10 [00:00<?, ?it/s]"
            ]
          },
          "metadata": {},
          "output_type": "display_data"
        },
        {
          "data": {
            "application/vnd.jupyter.widget-view+json": {
              "model_id": "2a2ec77b0fd14eff854eb1f3e56ee1ae",
              "version_major": 2,
              "version_minor": 0
            },
            "text/plain": [
              "Processing videos in selamat:   0%|          | 0/10 [00:00<?, ?it/s]"
            ]
          },
          "metadata": {},
          "output_type": "display_data"
        },
        {
          "data": {
            "application/vnd.jupyter.widget-view+json": {
              "model_id": "87c826f7392e48629889ca41986222ec",
              "version_major": 2,
              "version_minor": 0
            },
            "text/plain": [
              "Processing videos in ibu:   0%|          | 0/10 [00:00<?, ?it/s]"
            ]
          },
          "metadata": {},
          "output_type": "display_data"
        },
        {
          "data": {
            "application/vnd.jupyter.widget-view+json": {
              "model_id": "c3ab911597ff46feab7e7b07ef620d2f",
              "version_major": 2,
              "version_minor": 0
            },
            "text/plain": [
              "Processing videos in lihat:   0%|          | 0/10 [00:00<?, ?it/s]"
            ]
          },
          "metadata": {},
          "output_type": "display_data"
        },
        {
          "name": "stdout",
          "output_type": "stream",
          "text": [
            "All metadata saved to data_collected/video_metadata.json\n"
          ]
        }
      ],
      "source": [
        "from googleapiclient.discovery import build\n",
        "from googleapiclient.errors import HttpError\n",
        "from googleapiclient.http import MediaIoBaseDownload\n",
        "import os\n",
        "import json\n",
        "import cv2\n",
        "from tqdm.notebook import tqdm\n",
        "\n",
        "\n",
        "def download_video(drive_service, file_id, local_path):\n",
        "    request = drive_service.files().get_media(fileId=file_id)\n",
        "    with open(local_path, \"wb\") as file:\n",
        "        downloader = MediaIoBaseDownload(file, request)\n",
        "        done = False\n",
        "        while not done:\n",
        "            _, done = downloader.next_chunk()\n",
        "\n",
        "\n",
        "def get_owner_info(drive_service, file_id):\n",
        "    try:\n",
        "        file_metadata = (\n",
        "            drive_service.files().get(fileId=file_id, fields=\"owners\").execute()\n",
        "        )\n",
        "        owner = file_metadata[\"owners\"][0]  # Assumes one owner\n",
        "        owner_info = {\n",
        "            \"name\": owner.get(\"displayName\", \"unknown\"),\n",
        "        }\n",
        "        return owner_info\n",
        "    except HttpError as error:\n",
        "        print(f\"Error fetching owner for file {file_id}: {error}\")\n",
        "        return {\"name\": \"unknown\"}\n",
        "\n",
        "\n",
        "def process_main_folder(main_folder_id, local_save_path):\n",
        "    creds = authenticate_drive()\n",
        "    drive_service = build(\"drive\", \"v3\", credentials=creds)\n",
        "\n",
        "    # Get subfolders (labels)\n",
        "    try:\n",
        "        results = (\n",
        "            drive_service.files()\n",
        "            .list(\n",
        "                q=f\"'{main_folder_id}' in parents and mimeType='application/vnd.google-apps.folder'\",\n",
        "                fields=\"files(id, name)\",\n",
        "            )\n",
        "            .execute()\n",
        "        )\n",
        "        folders = results.get(\"files\", [])\n",
        "    except HttpError as error:\n",
        "        print(f\"An error occurred: {error}\")\n",
        "        return\n",
        "\n",
        "    if not folders:\n",
        "        print(\"No subfolders found in the main folder.\")\n",
        "        return\n",
        "\n",
        "    video_data = {}\n",
        "\n",
        "    for folder in tqdm(folders, desc=\"Processing folders\"):\n",
        "        label = folder[\"name\"]\n",
        "        folder_id = folder[\"id\"]\n",
        "        label_path = os.path.join(local_save_path, label)\n",
        "        os.makedirs(label_path, exist_ok=True)\n",
        "\n",
        "        # Get videos in the subfolder\n",
        "        try:\n",
        "            video_results = (\n",
        "                drive_service.files()\n",
        "                .list(\n",
        "                    q=f\"'{folder_id}' in parents and mimeType contains 'video/'\",\n",
        "                    fields=\"files(id, name)\",\n",
        "                )\n",
        "                .execute()\n",
        "            )\n",
        "            videos = video_results.get(\"files\", [])\n",
        "        except HttpError as error:\n",
        "            print(\n",
        "                f\"An error occurred while fetching videos for folder {label}: {error}\"\n",
        "            )\n",
        "            continue\n",
        "\n",
        "        if not videos:\n",
        "            print(f\"No videos found in folder: {label}\")\n",
        "            continue\n",
        "\n",
        "        video_data[label] = []\n",
        "        for idx, video in enumerate(tqdm(videos, desc=f\"Processing videos in {label}\", leave=False)):\n",
        "            video_id = f\"{label}_{idx+1:02d}\"\n",
        "            video_name = f\"{video_id}.mp4\"\n",
        "            video_local_path = os.path.join(label_path, video_name)\n",
        "\n",
        "            download_video(drive_service, video[\"id\"], video_local_path)\n",
        "\n",
        "            # Get video metadata\n",
        "            cap = cv2.VideoCapture(video_local_path)\n",
        "            duration = int(\n",
        "                cap.get(cv2.CAP_PROP_FRAME_COUNT) / cap.get(cv2.CAP_PROP_FPS)\n",
        "            )\n",
        "            width = int(cap.get(cv2.CAP_PROP_FRAME_WIDTH))\n",
        "            height = int(cap.get(cv2.CAP_PROP_FRAME_HEIGHT))\n",
        "            resolution = f\"{width}x{height}\"\n",
        "            cap.release()\n",
        "\n",
        "            owner_info = get_owner_info(drive_service, video[\"id\"])\n",
        "\n",
        "            # Save video data\n",
        "            video_info = {\n",
        "                \"videoID\": video_id,\n",
        "                \"contributor\": owner_info[\"name\"],\n",
        "                \"duration\": duration,\n",
        "                \"resolution\": resolution,\n",
        "            }\n",
        "            video_data[label].append(video_info)\n",
        "\n",
        "    # Save all metadata to JSON\n",
        "    output_json = os.path.join(local_save_path, \"video_metadata.json\")\n",
        "    with open(output_json, \"w\") as json_file:\n",
        "        json.dump(video_data, json_file, indent=4)\n",
        "    print(f\"All metadata saved to {output_json}\")\n",
        "\n",
        "\n",
        "# Usage\n",
        "main_folder_id = \"1Z5elhiU-za29NG8QdvSgY6ESYvqPyyOq\"\n",
        "local_save_path = \"data_collected/\"\n",
        "process_main_folder(main_folder_id, local_save_path)"
      ]
    },
    {
      "cell_type": "code",
      "execution_count": null,
      "metadata": {
        "id": "VKAo5r-PWuCK",
        "outputId": "3f5eb8b4-66f3-446b-f417-0fac8b6717e9",
        "colab": {
          "referenced_widgets": [
            "f76b8e3b79574e9da5f31723fc905264",
            "a2d1c49b50414dabb8a790fe3016b360"
          ]
        }
      },
      "outputs": [
        {
          "data": {
            "application/vnd.jupyter.widget-view+json": {
              "model_id": "f76b8e3b79574e9da5f31723fc905264",
              "version_major": 2,
              "version_minor": 0
            },
            "text/plain": [
              "Copying to data_splits/train:   0%|          | 0/237 [00:00<?, ?it/s]"
            ]
          },
          "metadata": {},
          "output_type": "display_data"
        },
        {
          "data": {
            "application/vnd.jupyter.widget-view+json": {
              "model_id": "a2d1c49b50414dabb8a790fe3016b360",
              "version_major": 2,
              "version_minor": 0
            },
            "text/plain": [
              "Copying to data_splits/test:   0%|          | 0/60 [00:00<?, ?it/s]"
            ]
          },
          "metadata": {},
          "output_type": "display_data"
        }
      ],
      "source": [
        "import shutil\n",
        "from sklearn.model_selection import train_test_split\n",
        "\n",
        "\n",
        "with open(\"data_collected/video_metadata.json\", \"r\") as f:\n",
        "    video_metadata = json.load(f)\n",
        "\n",
        "SOURCE_DIR = \"data_collected/\"\n",
        "DEST_DIR = \"data_splits/\"\n",
        "\n",
        "os.makedirs(os.path.join(DEST_DIR, \"train\"), exist_ok=True)\n",
        "os.makedirs(os.path.join(DEST_DIR, \"test\"), exist_ok=True)\n",
        "\n",
        "file_paths = []\n",
        "labels = []\n",
        "video_ids = []\n",
        "\n",
        "for word in os.listdir(SOURCE_DIR):\n",
        "    word_dir = os.path.join(SOURCE_DIR, word)\n",
        "    if os.path.isdir(word_dir):\n",
        "        for file in os.listdir(word_dir):\n",
        "            file_paths.append(os.path.join(word_dir, file))\n",
        "            labels.append(word)\n",
        "\n",
        "test_size = 0.2  # Proportion of test data\n",
        "train_files, test_files, train_labels, test_labels = train_test_split(\n",
        "    file_paths, labels, test_size=test_size, random_state=42, stratify=labels\n",
        ")\n",
        "\n",
        "train_ids = [os.path.splitext(os.path.basename(file))[0] for file in train_files]\n",
        "test_ids = [os.path.splitext(os.path.basename(file))[0] for file in test_files]\n",
        "\n",
        "# Update video_metadata with subset information\n",
        "for label in video_metadata:\n",
        "    for video in video_metadata[label]:\n",
        "        video_id = video[\"videoID\"]\n",
        "        if video_id in train_ids:\n",
        "            video[\"subset\"] = \"train\"\n",
        "        elif video_id in test_ids:\n",
        "            video[\"subset\"] = \"test\"\n",
        "\n",
        "# Save updated metadata\n",
        "with open(\"data_splits/video_metadata.json\", \"w\") as f:\n",
        "    json.dump(video_metadata, f, indent=4)\n",
        "\n",
        "def save_files(files, labels, base_dir):\n",
        "    for file, label in tqdm(\n",
        "        zip(files, labels), total=len(files), desc=f\"Copying to {base_dir}\"\n",
        "    ):\n",
        "        save_dir = os.path.join(base_dir, label)\n",
        "        os.makedirs(save_dir, exist_ok=True)  # Ensure class folder exists\n",
        "        shutil.copy(file, os.path.join(save_dir, os.path.basename(file)))\n",
        "\n",
        "# Save train and test files\n",
        "save_files(train_files, train_labels, os.path.join(DEST_DIR, \"train\"))\n",
        "save_files(test_files, test_labels, os.path.join(DEST_DIR, \"test\"))"
      ]
    },
    {
      "cell_type": "code",
      "execution_count": null,
      "metadata": {
        "id": "XJSm984lWuCL",
        "outputId": "3dd5f954-e22b-4cd0-93da-f85f5f36ba27",
        "colab": {
          "referenced_widgets": [
            "0f340fdeeb654b9187ff09fc2521cb1e",
            "9e9be46e6ba7489abf62a187bc1af30b",
            "cfa89584e3b4492b9d232dfcae415acd",
            "ef511781872043468b174c5d13c3dfa2",
            "4aa2b5a0f8344975916edca9277f4bfc",
            "3d36a95748df46f38df6832d1d72d525",
            "3775e19a8f494d73ae9eaed022aef65d",
            "eb0ae6a666294d228ee8ae693d41fe11",
            "6996d3d2e4ee4ac982501c19ff9ff803",
            "55e9f3d377f04e5e8f590b54ed81d525",
            "5078cc3154554a449d71535b01f4eba2",
            "283660bbe59142b6aa6aec0a3f28f169",
            "6536d9e75def4ae2ae9b456357c43d5f",
            "2bd023a84d0945f58a847323cd06b96e",
            "aa9e6109b4fd4c95b8c246472268258f",
            "f525afb4bb6442c9ac99ec0537f78917",
            "9cc083ec84e745be9ded7bc9da39f6fd",
            "531e2aaedde44401b1189bececb55536",
            "cc04ef4dccb1478cb4403e563c6002db",
            "be49e7fb91c54835a8485fb5a80b6394",
            "d184cb80f24443e9b32fbbf7374cf126",
            "8db316e2cf1c484da1974478dfabd8ff",
            "8862fb94351544d6bf489f2c381b43bf",
            "d1e91158bb584aba987d9fc7e4571189",
            "bf2930f066b148fb8b1ceed08d882f59",
            "c60c800578ed439ca20c176f7d54275b",
            "b2a3547fb91b4a91ab32442c2b24e4e6",
            "4478b894bb8c4a6e8596c5482c3c6acd",
            "2674a2b9d33f4c168658fbbbff95b631",
            "cbf67385018b40fa8a51d04b14b4aff1",
            "e541e3797da44a478d53ccad92f54cee",
            "195217220085426ca49a4e9bac162b91",
            "d29484a9d9794cab8e7cfd02945ff27a",
            "23400e406e164f3a95d59f1bd0ee42e5",
            "c0ca844bebc645229bfe581609cba986",
            "f2e928b0dd144b37a361f004f44525dc",
            "1b6d62937aa74dcd86834899fd9641d2",
            "9e797835eb5243e5b49bd81ca2a26610",
            "c49652a1d51247318ae8c8a3fe33ab0b",
            "f96ab41a672a4b3ca5c43f07a6173625",
            "34440f49582345c38df92be0ad97e5ca",
            "0574400df07841088acecef5b7d78cbb",
            "078034c004044f0bac4ec57b75852766",
            "7dd5deda28d248a5bd3b726e80b4539e",
            "e8fe171a1374465e82121d46ce49432a",
            "723c04e8a3f0472094c059a083c14e89",
            "244629431ce44121a8a32db6cea1ede2",
            "7a21db4c0f5f46f0ad3f5ea2cac243f0",
            "4091d641c4c94a819dc40add161de42f",
            "92dd12e3ce4f493286adde389d0c3079",
            "7a370283f1234014b3d4f19912a73480",
            "a0603755af734ccfaee24d61e96234c9",
            "f09010191a6e440eab7559c2f0aea2da",
            "b864bba9c5244440b806101f319ec635",
            "41b9e7752afd45918c6c939269d4fadc",
            "2e3bd94cadf2462789399374c64549d9",
            "1502d8192ceb47079fb873df8d36dde0",
            "fd4de2a4aa734cf9944a40b6dd00c2be",
            "b35d0c65d95748d58541bc3f23e17a8d",
            "a05cc59b7f744b9e858fa620c7e71344",
            "266445bda98743139c7ade671e038dbd",
            "6ec7cbfa8e5446d8898153be590c445f"
          ]
        }
      },
      "outputs": [
        {
          "data": {
            "application/vnd.jupyter.widget-view+json": {
              "model_id": "0f340fdeeb654b9187ff09fc2521cb1e",
              "version_major": 2,
              "version_minor": 0
            },
            "text/plain": [
              "Processing train folders:   0%|          | 0/30 [00:00<?, ?it/s]"
            ]
          },
          "metadata": {},
          "output_type": "display_data"
        },
        {
          "data": {
            "application/vnd.jupyter.widget-view+json": {
              "model_id": "9e9be46e6ba7489abf62a187bc1af30b",
              "version_major": 2,
              "version_minor": 0
            },
            "text/plain": [
              "Processing adik videos:   0%|          | 0/8 [00:00<?, ?it/s]"
            ]
          },
          "metadata": {},
          "output_type": "display_data"
        },
        {
          "data": {
            "application/vnd.jupyter.widget-view+json": {
              "model_id": "cfa89584e3b4492b9d232dfcae415acd",
              "version_major": 2,
              "version_minor": 0
            },
            "text/plain": [
              "Processing anak videos:   0%|          | 0/8 [00:00<?, ?it/s]"
            ]
          },
          "metadata": {},
          "output_type": "display_data"
        },
        {
          "data": {
            "application/vnd.jupyter.widget-view+json": {
              "model_id": "ef511781872043468b174c5d13c3dfa2",
              "version_major": 2,
              "version_minor": 0
            },
            "text/plain": [
              "Processing besar videos:   0%|          | 0/8 [00:00<?, ?it/s]"
            ]
          },
          "metadata": {},
          "output_type": "display_data"
        },
        {
          "data": {
            "application/vnd.jupyter.widget-view+json": {
              "model_id": "4aa2b5a0f8344975916edca9277f4bfc",
              "version_major": 2,
              "version_minor": 0
            },
            "text/plain": [
              "Processing buka videos:   0%|          | 0/8 [00:00<?, ?it/s]"
            ]
          },
          "metadata": {},
          "output_type": "display_data"
        },
        {
          "data": {
            "application/vnd.jupyter.widget-view+json": {
              "model_id": "3d36a95748df46f38df6832d1d72d525",
              "version_major": 2,
              "version_minor": 0
            },
            "text/plain": [
              "Processing buruk videos:   0%|          | 0/8 [00:00<?, ?it/s]"
            ]
          },
          "metadata": {},
          "output_type": "display_data"
        },
        {
          "data": {
            "application/vnd.jupyter.widget-view+json": {
              "model_id": "3775e19a8f494d73ae9eaed022aef65d",
              "version_major": 2,
              "version_minor": 0
            },
            "text/plain": [
              "Processing dengar videos:   0%|          | 0/8 [00:00<?, ?it/s]"
            ]
          },
          "metadata": {},
          "output_type": "display_data"
        },
        {
          "data": {
            "application/vnd.jupyter.widget-view+json": {
              "model_id": "eb0ae6a666294d228ee8ae693d41fe11",
              "version_major": 2,
              "version_minor": 0
            },
            "text/plain": [
              "Processing gembira videos:   0%|          | 0/8 [00:00<?, ?it/s]"
            ]
          },
          "metadata": {},
          "output_type": "display_data"
        },
        {
          "data": {
            "application/vnd.jupyter.widget-view+json": {
              "model_id": "6996d3d2e4ee4ac982501c19ff9ff803",
              "version_major": 2,
              "version_minor": 0
            },
            "text/plain": [
              "Processing guru videos:   0%|          | 0/8 [00:00<?, ?it/s]"
            ]
          },
          "metadata": {},
          "output_type": "display_data"
        },
        {
          "data": {
            "application/vnd.jupyter.widget-view+json": {
              "model_id": "55e9f3d377f04e5e8f590b54ed81d525",
              "version_major": 2,
              "version_minor": 0
            },
            "text/plain": [
              "Processing haus videos:   0%|          | 0/8 [00:00<?, ?it/s]"
            ]
          },
          "metadata": {},
          "output_type": "display_data"
        },
        {
          "data": {
            "application/vnd.jupyter.widget-view+json": {
              "model_id": "5078cc3154554a449d71535b01f4eba2",
              "version_major": 2,
              "version_minor": 0
            },
            "text/plain": [
              "Processing ibu videos:   0%|          | 0/8 [00:00<?, ?it/s]"
            ]
          },
          "metadata": {},
          "output_type": "display_data"
        },
        {
          "data": {
            "application/vnd.jupyter.widget-view+json": {
              "model_id": "283660bbe59142b6aa6aec0a3f28f169",
              "version_major": 2,
              "version_minor": 0
            },
            "text/plain": [
              "Processing jalan videos:   0%|          | 0/8 [00:00<?, ?it/s]"
            ]
          },
          "metadata": {},
          "output_type": "display_data"
        },
        {
          "data": {
            "application/vnd.jupyter.widget-view+json": {
              "model_id": "6536d9e75def4ae2ae9b456357c43d5f",
              "version_major": 2,
              "version_minor": 0
            },
            "text/plain": [
              "Processing keluarga videos:   0%|          | 0/8 [00:00<?, ?it/s]"
            ]
          },
          "metadata": {},
          "output_type": "display_data"
        },
        {
          "data": {
            "application/vnd.jupyter.widget-view+json": {
              "model_id": "2bd023a84d0945f58a847323cd06b96e",
              "version_major": 2,
              "version_minor": 0
            },
            "text/plain": [
              "Processing kertas videos:   0%|          | 0/8 [00:00<?, ?it/s]"
            ]
          },
          "metadata": {},
          "output_type": "display_data"
        },
        {
          "data": {
            "application/vnd.jupyter.widget-view+json": {
              "model_id": "aa9e6109b4fd4c95b8c246472268258f",
              "version_major": 2,
              "version_minor": 0
            },
            "text/plain": [
              "Processing kucing videos:   0%|          | 0/8 [00:00<?, ?it/s]"
            ]
          },
          "metadata": {},
          "output_type": "display_data"
        },
        {
          "data": {
            "application/vnd.jupyter.widget-view+json": {
              "model_id": "f525afb4bb6442c9ac99ec0537f78917",
              "version_major": 2,
              "version_minor": 0
            },
            "text/plain": [
              "Processing lapar videos:   0%|          | 0/8 [00:00<?, ?it/s]"
            ]
          },
          "metadata": {},
          "output_type": "display_data"
        },
        {
          "data": {
            "application/vnd.jupyter.widget-view+json": {
              "model_id": "9cc083ec84e745be9ded7bc9da39f6fd",
              "version_major": 2,
              "version_minor": 0
            },
            "text/plain": [
              "Processing lihat videos:   0%|          | 0/8 [00:00<?, ?it/s]"
            ]
          },
          "metadata": {},
          "output_type": "display_data"
        },
        {
          "data": {
            "application/vnd.jupyter.widget-view+json": {
              "model_id": "531e2aaedde44401b1189bececb55536",
              "version_major": 2,
              "version_minor": 0
            },
            "text/plain": [
              "Processing maaf videos:   0%|          | 0/8 [00:00<?, ?it/s]"
            ]
          },
          "metadata": {},
          "output_type": "display_data"
        },
        {
          "data": {
            "application/vnd.jupyter.widget-view+json": {
              "model_id": "cc04ef4dccb1478cb4403e563c6002db",
              "version_major": 2,
              "version_minor": 0
            },
            "text/plain": [
              "Processing main videos:   0%|          | 0/8 [00:00<?, ?it/s]"
            ]
          },
          "metadata": {},
          "output_type": "display_data"
        },
        {
          "data": {
            "application/vnd.jupyter.widget-view+json": {
              "model_id": "be49e7fb91c54835a8485fb5a80b6394",
              "version_major": 2,
              "version_minor": 0
            },
            "text/plain": [
              "Processing makan videos:   0%|          | 0/7 [00:00<?, ?it/s]"
            ]
          },
          "metadata": {},
          "output_type": "display_data"
        },
        {
          "data": {
            "application/vnd.jupyter.widget-view+json": {
              "model_id": "d184cb80f24443e9b32fbbf7374cf126",
              "version_major": 2,
              "version_minor": 0
            },
            "text/plain": [
              "Processing marah videos:   0%|          | 0/9 [00:00<?, ?it/s]"
            ]
          },
          "metadata": {},
          "output_type": "display_data"
        },
        {
          "data": {
            "application/vnd.jupyter.widget-view+json": {
              "model_id": "8db316e2cf1c484da1974478dfabd8ff",
              "version_major": 2,
              "version_minor": 0
            },
            "text/plain": [
              "Processing minum videos:   0%|          | 0/8 [00:00<?, ?it/s]"
            ]
          },
          "metadata": {},
          "output_type": "display_data"
        },
        {
          "data": {
            "application/vnd.jupyter.widget-view+json": {
              "model_id": "8862fb94351544d6bf489f2c381b43bf",
              "version_major": 2,
              "version_minor": 0
            },
            "text/plain": [
              "Processing nama videos:   0%|          | 0/8 [00:00<?, ?it/s]"
            ]
          },
          "metadata": {},
          "output_type": "display_data"
        },
        {
          "data": {
            "application/vnd.jupyter.widget-view+json": {
              "model_id": "d1e91158bb584aba987d9fc7e4571189",
              "version_major": 2,
              "version_minor": 0
            },
            "text/plain": [
              "Processing orang videos:   0%|          | 0/7 [00:00<?, ?it/s]"
            ]
          },
          "metadata": {},
          "output_type": "display_data"
        },
        {
          "data": {
            "application/vnd.jupyter.widget-view+json": {
              "model_id": "bf2930f066b148fb8b1ceed08d882f59",
              "version_major": 2,
              "version_minor": 0
            },
            "text/plain": [
              "Processing panggil videos:   0%|          | 0/8 [00:00<?, ?it/s]"
            ]
          },
          "metadata": {},
          "output_type": "display_data"
        },
        {
          "data": {
            "application/vnd.jupyter.widget-view+json": {
              "model_id": "c60c800578ed439ca20c176f7d54275b",
              "version_major": 2,
              "version_minor": 0
            },
            "text/plain": [
              "Processing rumah videos:   0%|          | 0/8 [00:00<?, ?it/s]"
            ]
          },
          "metadata": {},
          "output_type": "display_data"
        },
        {
          "data": {
            "application/vnd.jupyter.widget-view+json": {
              "model_id": "b2a3547fb91b4a91ab32442c2b24e4e6",
              "version_major": 2,
              "version_minor": 0
            },
            "text/plain": [
              "Processing sedikit videos:   0%|          | 0/8 [00:00<?, ?it/s]"
            ]
          },
          "metadata": {},
          "output_type": "display_data"
        },
        {
          "data": {
            "application/vnd.jupyter.widget-view+json": {
              "model_id": "4478b894bb8c4a6e8596c5482c3c6acd",
              "version_major": 2,
              "version_minor": 0
            },
            "text/plain": [
              "Processing selamat videos:   0%|          | 0/8 [00:00<?, ?it/s]"
            ]
          },
          "metadata": {},
          "output_type": "display_data"
        },
        {
          "data": {
            "application/vnd.jupyter.widget-view+json": {
              "model_id": "2674a2b9d33f4c168658fbbbff95b631",
              "version_major": 2,
              "version_minor": 0
            },
            "text/plain": [
              "Processing senyum videos:   0%|          | 0/8 [00:00<?, ?it/s]"
            ]
          },
          "metadata": {},
          "output_type": "display_data"
        },
        {
          "data": {
            "application/vnd.jupyter.widget-view+json": {
              "model_id": "cbf67385018b40fa8a51d04b14b4aff1",
              "version_major": 2,
              "version_minor": 0
            },
            "text/plain": [
              "Processing teman videos:   0%|          | 0/7 [00:00<?, ?it/s]"
            ]
          },
          "metadata": {},
          "output_type": "display_data"
        },
        {
          "data": {
            "application/vnd.jupyter.widget-view+json": {
              "model_id": "e541e3797da44a478d53ccad92f54cee",
              "version_major": 2,
              "version_minor": 0
            },
            "text/plain": [
              "Processing tidur videos:   0%|          | 0/7 [00:00<?, ?it/s]"
            ]
          },
          "metadata": {},
          "output_type": "display_data"
        },
        {
          "data": {
            "application/vnd.jupyter.widget-view+json": {
              "model_id": "195217220085426ca49a4e9bac162b91",
              "version_major": 2,
              "version_minor": 0
            },
            "text/plain": [
              "Processing test folders:   0%|          | 0/30 [00:00<?, ?it/s]"
            ]
          },
          "metadata": {},
          "output_type": "display_data"
        },
        {
          "data": {
            "application/vnd.jupyter.widget-view+json": {
              "model_id": "d29484a9d9794cab8e7cfd02945ff27a",
              "version_major": 2,
              "version_minor": 0
            },
            "text/plain": [
              "Processing adik videos:   0%|          | 0/2 [00:00<?, ?it/s]"
            ]
          },
          "metadata": {},
          "output_type": "display_data"
        },
        {
          "data": {
            "application/vnd.jupyter.widget-view+json": {
              "model_id": "23400e406e164f3a95d59f1bd0ee42e5",
              "version_major": 2,
              "version_minor": 0
            },
            "text/plain": [
              "Processing anak videos:   0%|          | 0/2 [00:00<?, ?it/s]"
            ]
          },
          "metadata": {},
          "output_type": "display_data"
        },
        {
          "data": {
            "application/vnd.jupyter.widget-view+json": {
              "model_id": "c0ca844bebc645229bfe581609cba986",
              "version_major": 2,
              "version_minor": 0
            },
            "text/plain": [
              "Processing besar videos:   0%|          | 0/2 [00:00<?, ?it/s]"
            ]
          },
          "metadata": {},
          "output_type": "display_data"
        },
        {
          "data": {
            "application/vnd.jupyter.widget-view+json": {
              "model_id": "f2e928b0dd144b37a361f004f44525dc",
              "version_major": 2,
              "version_minor": 0
            },
            "text/plain": [
              "Processing buka videos:   0%|          | 0/2 [00:00<?, ?it/s]"
            ]
          },
          "metadata": {},
          "output_type": "display_data"
        },
        {
          "data": {
            "application/vnd.jupyter.widget-view+json": {
              "model_id": "1b6d62937aa74dcd86834899fd9641d2",
              "version_major": 2,
              "version_minor": 0
            },
            "text/plain": [
              "Processing buruk videos:   0%|          | 0/2 [00:00<?, ?it/s]"
            ]
          },
          "metadata": {},
          "output_type": "display_data"
        },
        {
          "data": {
            "application/vnd.jupyter.widget-view+json": {
              "model_id": "9e797835eb5243e5b49bd81ca2a26610",
              "version_major": 2,
              "version_minor": 0
            },
            "text/plain": [
              "Processing dengar videos:   0%|          | 0/2 [00:00<?, ?it/s]"
            ]
          },
          "metadata": {},
          "output_type": "display_data"
        },
        {
          "data": {
            "application/vnd.jupyter.widget-view+json": {
              "model_id": "c49652a1d51247318ae8c8a3fe33ab0b",
              "version_major": 2,
              "version_minor": 0
            },
            "text/plain": [
              "Processing gembira videos:   0%|          | 0/2 [00:00<?, ?it/s]"
            ]
          },
          "metadata": {},
          "output_type": "display_data"
        },
        {
          "data": {
            "application/vnd.jupyter.widget-view+json": {
              "model_id": "f96ab41a672a4b3ca5c43f07a6173625",
              "version_major": 2,
              "version_minor": 0
            },
            "text/plain": [
              "Processing guru videos:   0%|          | 0/2 [00:00<?, ?it/s]"
            ]
          },
          "metadata": {},
          "output_type": "display_data"
        },
        {
          "data": {
            "application/vnd.jupyter.widget-view+json": {
              "model_id": "34440f49582345c38df92be0ad97e5ca",
              "version_major": 2,
              "version_minor": 0
            },
            "text/plain": [
              "Processing haus videos:   0%|          | 0/2 [00:00<?, ?it/s]"
            ]
          },
          "metadata": {},
          "output_type": "display_data"
        },
        {
          "data": {
            "application/vnd.jupyter.widget-view+json": {
              "model_id": "0574400df07841088acecef5b7d78cbb",
              "version_major": 2,
              "version_minor": 0
            },
            "text/plain": [
              "Processing ibu videos:   0%|          | 0/2 [00:00<?, ?it/s]"
            ]
          },
          "metadata": {},
          "output_type": "display_data"
        },
        {
          "data": {
            "application/vnd.jupyter.widget-view+json": {
              "model_id": "078034c004044f0bac4ec57b75852766",
              "version_major": 2,
              "version_minor": 0
            },
            "text/plain": [
              "Processing jalan videos:   0%|          | 0/2 [00:00<?, ?it/s]"
            ]
          },
          "metadata": {},
          "output_type": "display_data"
        },
        {
          "data": {
            "application/vnd.jupyter.widget-view+json": {
              "model_id": "7dd5deda28d248a5bd3b726e80b4539e",
              "version_major": 2,
              "version_minor": 0
            },
            "text/plain": [
              "Processing keluarga videos:   0%|          | 0/2 [00:00<?, ?it/s]"
            ]
          },
          "metadata": {},
          "output_type": "display_data"
        },
        {
          "data": {
            "application/vnd.jupyter.widget-view+json": {
              "model_id": "e8fe171a1374465e82121d46ce49432a",
              "version_major": 2,
              "version_minor": 0
            },
            "text/plain": [
              "Processing kertas videos:   0%|          | 0/2 [00:00<?, ?it/s]"
            ]
          },
          "metadata": {},
          "output_type": "display_data"
        },
        {
          "data": {
            "application/vnd.jupyter.widget-view+json": {
              "model_id": "723c04e8a3f0472094c059a083c14e89",
              "version_major": 2,
              "version_minor": 0
            },
            "text/plain": [
              "Processing kucing videos:   0%|          | 0/2 [00:00<?, ?it/s]"
            ]
          },
          "metadata": {},
          "output_type": "display_data"
        },
        {
          "data": {
            "application/vnd.jupyter.widget-view+json": {
              "model_id": "244629431ce44121a8a32db6cea1ede2",
              "version_major": 2,
              "version_minor": 0
            },
            "text/plain": [
              "Processing lapar videos:   0%|          | 0/2 [00:00<?, ?it/s]"
            ]
          },
          "metadata": {},
          "output_type": "display_data"
        },
        {
          "data": {
            "application/vnd.jupyter.widget-view+json": {
              "model_id": "7a21db4c0f5f46f0ad3f5ea2cac243f0",
              "version_major": 2,
              "version_minor": 0
            },
            "text/plain": [
              "Processing lihat videos:   0%|          | 0/2 [00:00<?, ?it/s]"
            ]
          },
          "metadata": {},
          "output_type": "display_data"
        },
        {
          "data": {
            "application/vnd.jupyter.widget-view+json": {
              "model_id": "4091d641c4c94a819dc40add161de42f",
              "version_major": 2,
              "version_minor": 0
            },
            "text/plain": [
              "Processing maaf videos:   0%|          | 0/2 [00:00<?, ?it/s]"
            ]
          },
          "metadata": {},
          "output_type": "display_data"
        },
        {
          "data": {
            "application/vnd.jupyter.widget-view+json": {
              "model_id": "92dd12e3ce4f493286adde389d0c3079",
              "version_major": 2,
              "version_minor": 0
            },
            "text/plain": [
              "Processing main videos:   0%|          | 0/2 [00:00<?, ?it/s]"
            ]
          },
          "metadata": {},
          "output_type": "display_data"
        },
        {
          "data": {
            "application/vnd.jupyter.widget-view+json": {
              "model_id": "7a370283f1234014b3d4f19912a73480",
              "version_major": 2,
              "version_minor": 0
            },
            "text/plain": [
              "Processing makan videos:   0%|          | 0/2 [00:00<?, ?it/s]"
            ]
          },
          "metadata": {},
          "output_type": "display_data"
        },
        {
          "data": {
            "application/vnd.jupyter.widget-view+json": {
              "model_id": "a0603755af734ccfaee24d61e96234c9",
              "version_major": 2,
              "version_minor": 0
            },
            "text/plain": [
              "Processing marah videos:   0%|          | 0/2 [00:00<?, ?it/s]"
            ]
          },
          "metadata": {},
          "output_type": "display_data"
        },
        {
          "data": {
            "application/vnd.jupyter.widget-view+json": {
              "model_id": "f09010191a6e440eab7559c2f0aea2da",
              "version_major": 2,
              "version_minor": 0
            },
            "text/plain": [
              "Processing minum videos:   0%|          | 0/2 [00:00<?, ?it/s]"
            ]
          },
          "metadata": {},
          "output_type": "display_data"
        },
        {
          "data": {
            "application/vnd.jupyter.widget-view+json": {
              "model_id": "b864bba9c5244440b806101f319ec635",
              "version_major": 2,
              "version_minor": 0
            },
            "text/plain": [
              "Processing nama videos:   0%|          | 0/2 [00:00<?, ?it/s]"
            ]
          },
          "metadata": {},
          "output_type": "display_data"
        },
        {
          "data": {
            "application/vnd.jupyter.widget-view+json": {
              "model_id": "41b9e7752afd45918c6c939269d4fadc",
              "version_major": 2,
              "version_minor": 0
            },
            "text/plain": [
              "Processing orang videos:   0%|          | 0/2 [00:00<?, ?it/s]"
            ]
          },
          "metadata": {},
          "output_type": "display_data"
        },
        {
          "data": {
            "application/vnd.jupyter.widget-view+json": {
              "model_id": "2e3bd94cadf2462789399374c64549d9",
              "version_major": 2,
              "version_minor": 0
            },
            "text/plain": [
              "Processing panggil videos:   0%|          | 0/2 [00:00<?, ?it/s]"
            ]
          },
          "metadata": {},
          "output_type": "display_data"
        },
        {
          "data": {
            "application/vnd.jupyter.widget-view+json": {
              "model_id": "1502d8192ceb47079fb873df8d36dde0",
              "version_major": 2,
              "version_minor": 0
            },
            "text/plain": [
              "Processing rumah videos:   0%|          | 0/2 [00:00<?, ?it/s]"
            ]
          },
          "metadata": {},
          "output_type": "display_data"
        },
        {
          "data": {
            "application/vnd.jupyter.widget-view+json": {
              "model_id": "fd4de2a4aa734cf9944a40b6dd00c2be",
              "version_major": 2,
              "version_minor": 0
            },
            "text/plain": [
              "Processing sedikit videos:   0%|          | 0/2 [00:00<?, ?it/s]"
            ]
          },
          "metadata": {},
          "output_type": "display_data"
        },
        {
          "data": {
            "application/vnd.jupyter.widget-view+json": {
              "model_id": "b35d0c65d95748d58541bc3f23e17a8d",
              "version_major": 2,
              "version_minor": 0
            },
            "text/plain": [
              "Processing selamat videos:   0%|          | 0/2 [00:00<?, ?it/s]"
            ]
          },
          "metadata": {},
          "output_type": "display_data"
        },
        {
          "data": {
            "application/vnd.jupyter.widget-view+json": {
              "model_id": "a05cc59b7f744b9e858fa620c7e71344",
              "version_major": 2,
              "version_minor": 0
            },
            "text/plain": [
              "Processing senyum videos:   0%|          | 0/2 [00:00<?, ?it/s]"
            ]
          },
          "metadata": {},
          "output_type": "display_data"
        },
        {
          "data": {
            "application/vnd.jupyter.widget-view+json": {
              "model_id": "266445bda98743139c7ade671e038dbd",
              "version_major": 2,
              "version_minor": 0
            },
            "text/plain": [
              "Processing teman videos:   0%|          | 0/2 [00:00<?, ?it/s]"
            ]
          },
          "metadata": {},
          "output_type": "display_data"
        },
        {
          "data": {
            "application/vnd.jupyter.widget-view+json": {
              "model_id": "6ec7cbfa8e5446d8898153be590c445f",
              "version_major": 2,
              "version_minor": 0
            },
            "text/plain": [
              "Processing tidur videos:   0%|          | 0/2 [00:00<?, ?it/s]"
            ]
          },
          "metadata": {},
          "output_type": "display_data"
        }
      ],
      "source": [
        "from moviepy.video.io.VideoFileClip import VideoFileClip\n",
        "from tqdm.notebook import tqdm\n",
        "import os\n",
        "import warnings\n",
        "\n",
        "warnings.filterwarnings(\"ignore\", category=UserWarning)\n",
        "\n",
        "def process_videos(subset):\n",
        "    \"\"\"\n",
        "    Process videos for given subset (train/test) by removing audio\n",
        "\n",
        "    Args:\n",
        "        subset (str): Either 'train' or 'test'\n",
        "    \"\"\"\n",
        "    # Create output directory for muted videos\n",
        "    MUTED_DIR = \"data_splits_muted/\"\n",
        "    SOURCE_DIR = \"data_splits/\"\n",
        "    os.makedirs(os.path.join(MUTED_DIR, subset), exist_ok=True)\n",
        "\n",
        "    # Process videos\n",
        "    subset_dir = os.path.join(SOURCE_DIR, subset)\n",
        "    for label in tqdm(os.listdir(subset_dir), desc=f\"Processing {subset} folders\"):\n",
        "        label_dir = os.path.join(subset_dir, label)\n",
        "        if os.path.isdir(label_dir):\n",
        "            # Create label directory in muted folder\n",
        "            muted_label_dir = os.path.join(MUTED_DIR, subset, label)\n",
        "            os.makedirs(muted_label_dir, exist_ok=True)\n",
        "\n",
        "            for video_file in tqdm(os.listdir(label_dir), desc=f\"Processing {label} videos\", leave=False):\n",
        "                input_path = os.path.join(label_dir, video_file)\n",
        "                output_path = os.path.join(muted_label_dir, video_file)\n",
        "\n",
        "                # Load video and save without audio\n",
        "                video = VideoFileClip(input_path)\n",
        "                video.without_audio().write_videofile(output_path, codec='libx264', logger=None)\n",
        "                video.close()\n",
        "\n",
        "# Process both train and test sets\n",
        "process_videos('train')\n",
        "process_videos('test')"
      ]
    }
  ],
  "metadata": {
    "kernelspec": {
      "display_name": ".venv",
      "language": "python",
      "name": "python3"
    },
    "language_info": {
      "codemirror_mode": {
        "name": "ipython",
        "version": 3
      },
      "file_extension": ".py",
      "mimetype": "text/x-python",
      "name": "python",
      "nbconvert_exporter": "python",
      "pygments_lexer": "ipython3",
      "version": "3.12.4"
    },
    "colab": {
      "provenance": []
    }
  },
  "nbformat": 4,
  "nbformat_minor": 0
}